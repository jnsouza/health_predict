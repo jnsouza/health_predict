{
  "nbformat": 4,
  "nbformat_minor": 0,
  "metadata": {
    "colab": {
      "provenance": [],
      "collapsed_sections": [
        "nTBoVICBF4Ir"
      ]
    },
    "kernelspec": {
      "name": "python3",
      "display_name": "Python 3"
    },
    "language_info": {
      "name": "python"
    }
  },
  "cells": [
    {
      "cell_type": "markdown",
      "source": [
        "# 1. Loading data and overview"
      ],
      "metadata": {
        "id": "JHg5KYLjFdjj"
      }
    },
    {
      "cell_type": "code",
      "source": [
        "# # # Baixar o arquivo\n",
        "# !wget https://www.cdc.gov/brfss/annual_data/2023/files/LLCP2023XPT.zip\n",
        "\n",
        "# # # Descompactar o arquivo ZIP\n",
        "# !unzip LLCP2023XPT.zip\n",
        "\n",
        "# # # Verificar o nome do arquivo extraído\n",
        "# import os\n",
        "# os.listdir('/content/')\n",
        "\n",
        "# # # https://www.cdc.gov/brfss/annual_data/2023/files/LLCP2023XPT.zip"
      ],
      "metadata": {
        "id": "5td7hjjwprwB",
        "collapsed": true
      },
      "execution_count": null,
      "outputs": []
    },
    {
      "cell_type": "code",
      "source": [
        "# from google.colab import drive\n",
        "# drive.mount('/content/drive')"
      ],
      "metadata": {
        "id": "I_CMrKaQ5A4S"
      },
      "execution_count": null,
      "outputs": []
    },
    {
      "cell_type": "code",
      "execution_count": null,
      "metadata": {
        "collapsed": true,
        "id": "7Vk4cEC0kWbt"
      },
      "outputs": [],
      "source": [
        "# !pip install pyreadstat\n",
        "# !pip install xport"
      ]
    },
    {
      "cell_type": "code",
      "source": [
        "import pandas as pd\n",
        "# import pyreadstat\n",
        "import seaborn as sns\n",
        "import matplotlib.pyplot as plt"
      ],
      "metadata": {
        "id": "MxdKsInQkwBk"
      },
      "execution_count": 1,
      "outputs": []
    },
    {
      "cell_type": "code",
      "source": [
        "## Defina o caminho para o arquivo .XPT\n",
        "file_path = 'LLCP2023.XPT '\n",
        "df        = pd.read_sas(file_path, format='xport', encoding='latin1')\n",
        "df.to_csv('LLCP2023.csv', index=False)\n",
        "print(\"Arquivo convertido com sucesso para CSV!\")"
      ],
      "metadata": {
        "id": "9rAK0Tg1kyB7",
        "collapsed": true,
        "colab": {
          "base_uri": "https://localhost:8080/",
          "height": 393
        },
        "outputId": "ccbbacee-1f78-4783-a354-208b3f1b2617"
      },
      "execution_count": 2,
      "outputs": [
        {
          "output_type": "error",
          "ename": "FileNotFoundError",
          "evalue": "[Errno 2] No such file or directory: 'LLCP2023.XPT '",
          "traceback": [
            "\u001b[0;31m---------------------------------------------------------------------------\u001b[0m",
            "\u001b[0;31mFileNotFoundError\u001b[0m                         Traceback (most recent call last)",
            "\u001b[0;32m<ipython-input-2-83737b6661cc>\u001b[0m in \u001b[0;36m<cell line: 3>\u001b[0;34m()\u001b[0m\n\u001b[1;32m      1\u001b[0m \u001b[0;31m## Defina o caminho para o arquivo .XPT\u001b[0m\u001b[0;34m\u001b[0m\u001b[0;34m\u001b[0m\u001b[0m\n\u001b[1;32m      2\u001b[0m \u001b[0mfile_path\u001b[0m \u001b[0;34m=\u001b[0m \u001b[0;34m'LLCP2023.XPT '\u001b[0m\u001b[0;34m\u001b[0m\u001b[0;34m\u001b[0m\u001b[0m\n\u001b[0;32m----> 3\u001b[0;31m \u001b[0mdf\u001b[0m        \u001b[0;34m=\u001b[0m \u001b[0mpd\u001b[0m\u001b[0;34m.\u001b[0m\u001b[0mread_sas\u001b[0m\u001b[0;34m(\u001b[0m\u001b[0mfile_path\u001b[0m\u001b[0;34m,\u001b[0m \u001b[0mformat\u001b[0m\u001b[0;34m=\u001b[0m\u001b[0;34m'xport'\u001b[0m\u001b[0;34m,\u001b[0m \u001b[0mencoding\u001b[0m\u001b[0;34m=\u001b[0m\u001b[0;34m'latin1'\u001b[0m\u001b[0;34m)\u001b[0m\u001b[0;34m\u001b[0m\u001b[0;34m\u001b[0m\u001b[0m\n\u001b[0m\u001b[1;32m      4\u001b[0m \u001b[0mdf\u001b[0m\u001b[0;34m.\u001b[0m\u001b[0mto_csv\u001b[0m\u001b[0;34m(\u001b[0m\u001b[0;34m'LLCP2023.csv'\u001b[0m\u001b[0;34m,\u001b[0m \u001b[0mindex\u001b[0m\u001b[0;34m=\u001b[0m\u001b[0;32mFalse\u001b[0m\u001b[0;34m)\u001b[0m\u001b[0;34m\u001b[0m\u001b[0;34m\u001b[0m\u001b[0m\n\u001b[1;32m      5\u001b[0m \u001b[0mprint\u001b[0m\u001b[0;34m(\u001b[0m\u001b[0;34m\"Arquivo convertido com sucesso para CSV!\"\u001b[0m\u001b[0;34m)\u001b[0m\u001b[0;34m\u001b[0m\u001b[0;34m\u001b[0m\u001b[0m\n",
            "\u001b[0;32m/usr/local/lib/python3.10/dist-packages/pandas/io/sas/sasreader.py\u001b[0m in \u001b[0;36mread_sas\u001b[0;34m(filepath_or_buffer, format, index, encoding, chunksize, iterator, compression)\u001b[0m\n\u001b[1;32m    154\u001b[0m         \u001b[0;32mfrom\u001b[0m \u001b[0mpandas\u001b[0m\u001b[0;34m.\u001b[0m\u001b[0mio\u001b[0m\u001b[0;34m.\u001b[0m\u001b[0msas\u001b[0m\u001b[0;34m.\u001b[0m\u001b[0msas_xport\u001b[0m \u001b[0;32mimport\u001b[0m \u001b[0mXportReader\u001b[0m\u001b[0;34m\u001b[0m\u001b[0;34m\u001b[0m\u001b[0m\n\u001b[1;32m    155\u001b[0m \u001b[0;34m\u001b[0m\u001b[0m\n\u001b[0;32m--> 156\u001b[0;31m         reader = XportReader(\n\u001b[0m\u001b[1;32m    157\u001b[0m             \u001b[0mfilepath_or_buffer\u001b[0m\u001b[0;34m,\u001b[0m\u001b[0;34m\u001b[0m\u001b[0;34m\u001b[0m\u001b[0m\n\u001b[1;32m    158\u001b[0m             \u001b[0mindex\u001b[0m\u001b[0;34m=\u001b[0m\u001b[0mindex\u001b[0m\u001b[0;34m,\u001b[0m\u001b[0;34m\u001b[0m\u001b[0;34m\u001b[0m\u001b[0m\n",
            "\u001b[0;32m/usr/local/lib/python3.10/dist-packages/pandas/io/sas/sas_xport.py\u001b[0m in \u001b[0;36m__init__\u001b[0;34m(self, filepath_or_buffer, index, encoding, chunksize, compression)\u001b[0m\n\u001b[1;32m    268\u001b[0m         \u001b[0mself\u001b[0m\u001b[0;34m.\u001b[0m\u001b[0m_chunksize\u001b[0m \u001b[0;34m=\u001b[0m \u001b[0mchunksize\u001b[0m\u001b[0;34m\u001b[0m\u001b[0;34m\u001b[0m\u001b[0m\n\u001b[1;32m    269\u001b[0m \u001b[0;34m\u001b[0m\u001b[0m\n\u001b[0;32m--> 270\u001b[0;31m         self.handles = get_handle(\n\u001b[0m\u001b[1;32m    271\u001b[0m             \u001b[0mfilepath_or_buffer\u001b[0m\u001b[0;34m,\u001b[0m\u001b[0;34m\u001b[0m\u001b[0;34m\u001b[0m\u001b[0m\n\u001b[1;32m    272\u001b[0m             \u001b[0;34m\"rb\"\u001b[0m\u001b[0;34m,\u001b[0m\u001b[0;34m\u001b[0m\u001b[0;34m\u001b[0m\u001b[0m\n",
            "\u001b[0;32m/usr/local/lib/python3.10/dist-packages/pandas/io/common.py\u001b[0m in \u001b[0;36mget_handle\u001b[0;34m(path_or_buf, mode, encoding, compression, memory_map, is_text, errors, storage_options)\u001b[0m\n\u001b[1;32m    870\u001b[0m         \u001b[0;32melse\u001b[0m\u001b[0;34m:\u001b[0m\u001b[0;34m\u001b[0m\u001b[0;34m\u001b[0m\u001b[0m\n\u001b[1;32m    871\u001b[0m             \u001b[0;31m# Binary mode\u001b[0m\u001b[0;34m\u001b[0m\u001b[0;34m\u001b[0m\u001b[0m\n\u001b[0;32m--> 872\u001b[0;31m             \u001b[0mhandle\u001b[0m \u001b[0;34m=\u001b[0m \u001b[0mopen\u001b[0m\u001b[0;34m(\u001b[0m\u001b[0mhandle\u001b[0m\u001b[0;34m,\u001b[0m \u001b[0mioargs\u001b[0m\u001b[0;34m.\u001b[0m\u001b[0mmode\u001b[0m\u001b[0;34m)\u001b[0m\u001b[0;34m\u001b[0m\u001b[0;34m\u001b[0m\u001b[0m\n\u001b[0m\u001b[1;32m    873\u001b[0m         \u001b[0mhandles\u001b[0m\u001b[0;34m.\u001b[0m\u001b[0mappend\u001b[0m\u001b[0;34m(\u001b[0m\u001b[0mhandle\u001b[0m\u001b[0;34m)\u001b[0m\u001b[0;34m\u001b[0m\u001b[0;34m\u001b[0m\u001b[0m\n\u001b[1;32m    874\u001b[0m \u001b[0;34m\u001b[0m\u001b[0m\n",
            "\u001b[0;31mFileNotFoundError\u001b[0m: [Errno 2] No such file or directory: 'LLCP2023.XPT '"
          ]
        }
      ]
    },
    {
      "cell_type": "code",
      "source": [
        "pd.set_option('display.float_format', '{:.2f}'.format)"
      ],
      "metadata": {
        "id": "DDmqu5trA5Xj"
      },
      "execution_count": null,
      "outputs": []
    },
    {
      "cell_type": "code",
      "source": [
        "## loading data\n",
        "df = pd.read_csv('LLCP2023.csv')"
      ],
      "metadata": {
        "collapsed": true,
        "id": "icTVvPHjlGs-"
      },
      "execution_count": 3,
      "outputs": []
    },
    {
      "cell_type": "code",
      "source": [
        "## overview\n",
        "print(\"df shape -->\", df.shape)\n",
        "print()\n",
        "df.head(5)"
      ],
      "metadata": {
        "colab": {
          "base_uri": "https://localhost:8080/",
          "height": 290
        },
        "id": "Yg4f3iTG_PA4",
        "outputId": "5fb39c20-f67c-49a0-ecd7-22a03afb4b81"
      },
      "execution_count": null,
      "outputs": [
        {
          "output_type": "stream",
          "name": "stdout",
          "text": [
            "df shape --> (433323, 350)\n",
            "\n"
          ]
        },
        {
          "output_type": "execute_result",
          "data": {
            "text/plain": [
              "   _STATE  FMONTH    IDATE  IMONTH  IDAY  IYEAR  DISPCODE       SEQNO  \\\n",
              "0    1.00    1.00  3012023       3     1   2023   1100.00  2023000001   \n",
              "1    1.00    1.00  1062023       1     6   2023   1100.00  2023000002   \n",
              "2    1.00    1.00  3082023       3     8   2023   1100.00  2023000003   \n",
              "3    1.00    1.00  3062023       3     6   2023   1100.00  2023000004   \n",
              "4    1.00    1.00  1062023       1     6   2023   1100.00  2023000005   \n",
              "\n",
              "           _PSU  CTELENM1  ...  DROCDY4_  _RFBING6  _DRNKWK2  _RFDRHV8  \\\n",
              "0 2023000001.00      1.00  ...      0.00      1.00      0.00      1.00   \n",
              "1 2023000002.00      1.00  ...      0.00      1.00      0.00      1.00   \n",
              "2 2023000003.00      1.00  ...      0.00      1.00      0.00      1.00   \n",
              "3 2023000004.00      1.00  ...      0.00      1.00      0.00      1.00   \n",
              "4 2023000005.00      1.00  ...      7.00      1.00     47.00      1.00   \n",
              "\n",
              "   _FLSHOT7  _PNEUMO3  _AIDTST4  _RFSEAT2  _RFSEAT3  _DRNKDRV  \n",
              "0      2.00      2.00      2.00      1.00      1.00      9.00  \n",
              "1      1.00      1.00      2.00      1.00      1.00      9.00  \n",
              "2      1.00      1.00      2.00      1.00      1.00      9.00  \n",
              "3      1.00      1.00      1.00      1.00      1.00      9.00  \n",
              "4      2.00      1.00      2.00      1.00      1.00      2.00  \n",
              "\n",
              "[5 rows x 350 columns]"
            ],
            "text/html": [
              "\n",
              "  <div id=\"df-f0fa95c9-979f-454f-b9a8-c1f964efce8c\" class=\"colab-df-container\">\n",
              "    <div>\n",
              "<style scoped>\n",
              "    .dataframe tbody tr th:only-of-type {\n",
              "        vertical-align: middle;\n",
              "    }\n",
              "\n",
              "    .dataframe tbody tr th {\n",
              "        vertical-align: top;\n",
              "    }\n",
              "\n",
              "    .dataframe thead th {\n",
              "        text-align: right;\n",
              "    }\n",
              "</style>\n",
              "<table border=\"1\" class=\"dataframe\">\n",
              "  <thead>\n",
              "    <tr style=\"text-align: right;\">\n",
              "      <th></th>\n",
              "      <th>_STATE</th>\n",
              "      <th>FMONTH</th>\n",
              "      <th>IDATE</th>\n",
              "      <th>IMONTH</th>\n",
              "      <th>IDAY</th>\n",
              "      <th>IYEAR</th>\n",
              "      <th>DISPCODE</th>\n",
              "      <th>SEQNO</th>\n",
              "      <th>_PSU</th>\n",
              "      <th>CTELENM1</th>\n",
              "      <th>...</th>\n",
              "      <th>DROCDY4_</th>\n",
              "      <th>_RFBING6</th>\n",
              "      <th>_DRNKWK2</th>\n",
              "      <th>_RFDRHV8</th>\n",
              "      <th>_FLSHOT7</th>\n",
              "      <th>_PNEUMO3</th>\n",
              "      <th>_AIDTST4</th>\n",
              "      <th>_RFSEAT2</th>\n",
              "      <th>_RFSEAT3</th>\n",
              "      <th>_DRNKDRV</th>\n",
              "    </tr>\n",
              "  </thead>\n",
              "  <tbody>\n",
              "    <tr>\n",
              "      <th>0</th>\n",
              "      <td>1.00</td>\n",
              "      <td>1.00</td>\n",
              "      <td>3012023</td>\n",
              "      <td>3</td>\n",
              "      <td>1</td>\n",
              "      <td>2023</td>\n",
              "      <td>1100.00</td>\n",
              "      <td>2023000001</td>\n",
              "      <td>2023000001.00</td>\n",
              "      <td>1.00</td>\n",
              "      <td>...</td>\n",
              "      <td>0.00</td>\n",
              "      <td>1.00</td>\n",
              "      <td>0.00</td>\n",
              "      <td>1.00</td>\n",
              "      <td>2.00</td>\n",
              "      <td>2.00</td>\n",
              "      <td>2.00</td>\n",
              "      <td>1.00</td>\n",
              "      <td>1.00</td>\n",
              "      <td>9.00</td>\n",
              "    </tr>\n",
              "    <tr>\n",
              "      <th>1</th>\n",
              "      <td>1.00</td>\n",
              "      <td>1.00</td>\n",
              "      <td>1062023</td>\n",
              "      <td>1</td>\n",
              "      <td>6</td>\n",
              "      <td>2023</td>\n",
              "      <td>1100.00</td>\n",
              "      <td>2023000002</td>\n",
              "      <td>2023000002.00</td>\n",
              "      <td>1.00</td>\n",
              "      <td>...</td>\n",
              "      <td>0.00</td>\n",
              "      <td>1.00</td>\n",
              "      <td>0.00</td>\n",
              "      <td>1.00</td>\n",
              "      <td>1.00</td>\n",
              "      <td>1.00</td>\n",
              "      <td>2.00</td>\n",
              "      <td>1.00</td>\n",
              "      <td>1.00</td>\n",
              "      <td>9.00</td>\n",
              "    </tr>\n",
              "    <tr>\n",
              "      <th>2</th>\n",
              "      <td>1.00</td>\n",
              "      <td>1.00</td>\n",
              "      <td>3082023</td>\n",
              "      <td>3</td>\n",
              "      <td>8</td>\n",
              "      <td>2023</td>\n",
              "      <td>1100.00</td>\n",
              "      <td>2023000003</td>\n",
              "      <td>2023000003.00</td>\n",
              "      <td>1.00</td>\n",
              "      <td>...</td>\n",
              "      <td>0.00</td>\n",
              "      <td>1.00</td>\n",
              "      <td>0.00</td>\n",
              "      <td>1.00</td>\n",
              "      <td>1.00</td>\n",
              "      <td>1.00</td>\n",
              "      <td>2.00</td>\n",
              "      <td>1.00</td>\n",
              "      <td>1.00</td>\n",
              "      <td>9.00</td>\n",
              "    </tr>\n",
              "    <tr>\n",
              "      <th>3</th>\n",
              "      <td>1.00</td>\n",
              "      <td>1.00</td>\n",
              "      <td>3062023</td>\n",
              "      <td>3</td>\n",
              "      <td>6</td>\n",
              "      <td>2023</td>\n",
              "      <td>1100.00</td>\n",
              "      <td>2023000004</td>\n",
              "      <td>2023000004.00</td>\n",
              "      <td>1.00</td>\n",
              "      <td>...</td>\n",
              "      <td>0.00</td>\n",
              "      <td>1.00</td>\n",
              "      <td>0.00</td>\n",
              "      <td>1.00</td>\n",
              "      <td>1.00</td>\n",
              "      <td>1.00</td>\n",
              "      <td>1.00</td>\n",
              "      <td>1.00</td>\n",
              "      <td>1.00</td>\n",
              "      <td>9.00</td>\n",
              "    </tr>\n",
              "    <tr>\n",
              "      <th>4</th>\n",
              "      <td>1.00</td>\n",
              "      <td>1.00</td>\n",
              "      <td>1062023</td>\n",
              "      <td>1</td>\n",
              "      <td>6</td>\n",
              "      <td>2023</td>\n",
              "      <td>1100.00</td>\n",
              "      <td>2023000005</td>\n",
              "      <td>2023000005.00</td>\n",
              "      <td>1.00</td>\n",
              "      <td>...</td>\n",
              "      <td>7.00</td>\n",
              "      <td>1.00</td>\n",
              "      <td>47.00</td>\n",
              "      <td>1.00</td>\n",
              "      <td>2.00</td>\n",
              "      <td>1.00</td>\n",
              "      <td>2.00</td>\n",
              "      <td>1.00</td>\n",
              "      <td>1.00</td>\n",
              "      <td>2.00</td>\n",
              "    </tr>\n",
              "  </tbody>\n",
              "</table>\n",
              "<p>5 rows × 350 columns</p>\n",
              "</div>\n",
              "    <div class=\"colab-df-buttons\">\n",
              "\n",
              "  <div class=\"colab-df-container\">\n",
              "    <button class=\"colab-df-convert\" onclick=\"convertToInteractive('df-f0fa95c9-979f-454f-b9a8-c1f964efce8c')\"\n",
              "            title=\"Convert this dataframe to an interactive table.\"\n",
              "            style=\"display:none;\">\n",
              "\n",
              "  <svg xmlns=\"http://www.w3.org/2000/svg\" height=\"24px\" viewBox=\"0 -960 960 960\">\n",
              "    <path d=\"M120-120v-720h720v720H120Zm60-500h600v-160H180v160Zm220 220h160v-160H400v160Zm0 220h160v-160H400v160ZM180-400h160v-160H180v160Zm440 0h160v-160H620v160ZM180-180h160v-160H180v160Zm440 0h160v-160H620v160Z\"/>\n",
              "  </svg>\n",
              "    </button>\n",
              "\n",
              "  <style>\n",
              "    .colab-df-container {\n",
              "      display:flex;\n",
              "      gap: 12px;\n",
              "    }\n",
              "\n",
              "    .colab-df-convert {\n",
              "      background-color: #E8F0FE;\n",
              "      border: none;\n",
              "      border-radius: 50%;\n",
              "      cursor: pointer;\n",
              "      display: none;\n",
              "      fill: #1967D2;\n",
              "      height: 32px;\n",
              "      padding: 0 0 0 0;\n",
              "      width: 32px;\n",
              "    }\n",
              "\n",
              "    .colab-df-convert:hover {\n",
              "      background-color: #E2EBFA;\n",
              "      box-shadow: 0px 1px 2px rgba(60, 64, 67, 0.3), 0px 1px 3px 1px rgba(60, 64, 67, 0.15);\n",
              "      fill: #174EA6;\n",
              "    }\n",
              "\n",
              "    .colab-df-buttons div {\n",
              "      margin-bottom: 4px;\n",
              "    }\n",
              "\n",
              "    [theme=dark] .colab-df-convert {\n",
              "      background-color: #3B4455;\n",
              "      fill: #D2E3FC;\n",
              "    }\n",
              "\n",
              "    [theme=dark] .colab-df-convert:hover {\n",
              "      background-color: #434B5C;\n",
              "      box-shadow: 0px 1px 3px 1px rgba(0, 0, 0, 0.15);\n",
              "      filter: drop-shadow(0px 1px 2px rgba(0, 0, 0, 0.3));\n",
              "      fill: #FFFFFF;\n",
              "    }\n",
              "  </style>\n",
              "\n",
              "    <script>\n",
              "      const buttonEl =\n",
              "        document.querySelector('#df-f0fa95c9-979f-454f-b9a8-c1f964efce8c button.colab-df-convert');\n",
              "      buttonEl.style.display =\n",
              "        google.colab.kernel.accessAllowed ? 'block' : 'none';\n",
              "\n",
              "      async function convertToInteractive(key) {\n",
              "        const element = document.querySelector('#df-f0fa95c9-979f-454f-b9a8-c1f964efce8c');\n",
              "        const dataTable =\n",
              "          await google.colab.kernel.invokeFunction('convertToInteractive',\n",
              "                                                    [key], {});\n",
              "        if (!dataTable) return;\n",
              "\n",
              "        const docLinkHtml = 'Like what you see? Visit the ' +\n",
              "          '<a target=\"_blank\" href=https://colab.research.google.com/notebooks/data_table.ipynb>data table notebook</a>'\n",
              "          + ' to learn more about interactive tables.';\n",
              "        element.innerHTML = '';\n",
              "        dataTable['output_type'] = 'display_data';\n",
              "        await google.colab.output.renderOutput(dataTable, element);\n",
              "        const docLink = document.createElement('div');\n",
              "        docLink.innerHTML = docLinkHtml;\n",
              "        element.appendChild(docLink);\n",
              "      }\n",
              "    </script>\n",
              "  </div>\n",
              "\n",
              "\n",
              "<div id=\"df-63ae8096-63e6-4b27-9cd4-8452a42a262d\">\n",
              "  <button class=\"colab-df-quickchart\" onclick=\"quickchart('df-63ae8096-63e6-4b27-9cd4-8452a42a262d')\"\n",
              "            title=\"Suggest charts\"\n",
              "            style=\"display:none;\">\n",
              "\n",
              "<svg xmlns=\"http://www.w3.org/2000/svg\" height=\"24px\"viewBox=\"0 0 24 24\"\n",
              "     width=\"24px\">\n",
              "    <g>\n",
              "        <path d=\"M19 3H5c-1.1 0-2 .9-2 2v14c0 1.1.9 2 2 2h14c1.1 0 2-.9 2-2V5c0-1.1-.9-2-2-2zM9 17H7v-7h2v7zm4 0h-2V7h2v10zm4 0h-2v-4h2v4z\"/>\n",
              "    </g>\n",
              "</svg>\n",
              "  </button>\n",
              "\n",
              "<style>\n",
              "  .colab-df-quickchart {\n",
              "      --bg-color: #E8F0FE;\n",
              "      --fill-color: #1967D2;\n",
              "      --hover-bg-color: #E2EBFA;\n",
              "      --hover-fill-color: #174EA6;\n",
              "      --disabled-fill-color: #AAA;\n",
              "      --disabled-bg-color: #DDD;\n",
              "  }\n",
              "\n",
              "  [theme=dark] .colab-df-quickchart {\n",
              "      --bg-color: #3B4455;\n",
              "      --fill-color: #D2E3FC;\n",
              "      --hover-bg-color: #434B5C;\n",
              "      --hover-fill-color: #FFFFFF;\n",
              "      --disabled-bg-color: #3B4455;\n",
              "      --disabled-fill-color: #666;\n",
              "  }\n",
              "\n",
              "  .colab-df-quickchart {\n",
              "    background-color: var(--bg-color);\n",
              "    border: none;\n",
              "    border-radius: 50%;\n",
              "    cursor: pointer;\n",
              "    display: none;\n",
              "    fill: var(--fill-color);\n",
              "    height: 32px;\n",
              "    padding: 0;\n",
              "    width: 32px;\n",
              "  }\n",
              "\n",
              "  .colab-df-quickchart:hover {\n",
              "    background-color: var(--hover-bg-color);\n",
              "    box-shadow: 0 1px 2px rgba(60, 64, 67, 0.3), 0 1px 3px 1px rgba(60, 64, 67, 0.15);\n",
              "    fill: var(--button-hover-fill-color);\n",
              "  }\n",
              "\n",
              "  .colab-df-quickchart-complete:disabled,\n",
              "  .colab-df-quickchart-complete:disabled:hover {\n",
              "    background-color: var(--disabled-bg-color);\n",
              "    fill: var(--disabled-fill-color);\n",
              "    box-shadow: none;\n",
              "  }\n",
              "\n",
              "  .colab-df-spinner {\n",
              "    border: 2px solid var(--fill-color);\n",
              "    border-color: transparent;\n",
              "    border-bottom-color: var(--fill-color);\n",
              "    animation:\n",
              "      spin 1s steps(1) infinite;\n",
              "  }\n",
              "\n",
              "  @keyframes spin {\n",
              "    0% {\n",
              "      border-color: transparent;\n",
              "      border-bottom-color: var(--fill-color);\n",
              "      border-left-color: var(--fill-color);\n",
              "    }\n",
              "    20% {\n",
              "      border-color: transparent;\n",
              "      border-left-color: var(--fill-color);\n",
              "      border-top-color: var(--fill-color);\n",
              "    }\n",
              "    30% {\n",
              "      border-color: transparent;\n",
              "      border-left-color: var(--fill-color);\n",
              "      border-top-color: var(--fill-color);\n",
              "      border-right-color: var(--fill-color);\n",
              "    }\n",
              "    40% {\n",
              "      border-color: transparent;\n",
              "      border-right-color: var(--fill-color);\n",
              "      border-top-color: var(--fill-color);\n",
              "    }\n",
              "    60% {\n",
              "      border-color: transparent;\n",
              "      border-right-color: var(--fill-color);\n",
              "    }\n",
              "    80% {\n",
              "      border-color: transparent;\n",
              "      border-right-color: var(--fill-color);\n",
              "      border-bottom-color: var(--fill-color);\n",
              "    }\n",
              "    90% {\n",
              "      border-color: transparent;\n",
              "      border-bottom-color: var(--fill-color);\n",
              "    }\n",
              "  }\n",
              "</style>\n",
              "\n",
              "  <script>\n",
              "    async function quickchart(key) {\n",
              "      const quickchartButtonEl =\n",
              "        document.querySelector('#' + key + ' button');\n",
              "      quickchartButtonEl.disabled = true;  // To prevent multiple clicks.\n",
              "      quickchartButtonEl.classList.add('colab-df-spinner');\n",
              "      try {\n",
              "        const charts = await google.colab.kernel.invokeFunction(\n",
              "            'suggestCharts', [key], {});\n",
              "      } catch (error) {\n",
              "        console.error('Error during call to suggestCharts:', error);\n",
              "      }\n",
              "      quickchartButtonEl.classList.remove('colab-df-spinner');\n",
              "      quickchartButtonEl.classList.add('colab-df-quickchart-complete');\n",
              "    }\n",
              "    (() => {\n",
              "      let quickchartButtonEl =\n",
              "        document.querySelector('#df-63ae8096-63e6-4b27-9cd4-8452a42a262d button');\n",
              "      quickchartButtonEl.style.display =\n",
              "        google.colab.kernel.accessAllowed ? 'block' : 'none';\n",
              "    })();\n",
              "  </script>\n",
              "</div>\n",
              "\n",
              "    </div>\n",
              "  </div>\n"
            ],
            "application/vnd.google.colaboratory.intrinsic+json": {
              "type": "dataframe",
              "variable_name": "df"
            }
          },
          "metadata": {},
          "execution_count": 8
        }
      ]
    },
    {
      "cell_type": "markdown",
      "source": [
        "# 2. Checking for duplicates and nulls"
      ],
      "metadata": {
        "id": "nTBoVICBF4Ir"
      }
    },
    {
      "cell_type": "code",
      "source": [
        "## checking duplicates\n",
        "print(\"duplicates -->\", df.duplicated().sum())\n",
        "print()\n",
        "\n",
        "## checking nulls\n",
        "print(df.isnull().sum().sort_values(ascending=False))"
      ],
      "metadata": {
        "colab": {
          "base_uri": "https://localhost:8080/"
        },
        "id": "zBYu4mvin2Iy",
        "outputId": "284e8eb3-5546-444b-e2dd-ac5a3a637c71"
      },
      "execution_count": 10,
      "outputs": [
        {
          "output_type": "stream",
          "name": "stdout",
          "text": [
            "duplicates --> 0\n",
            "\n",
            "PAMIN13_    47837\n",
            "PA3MIN_     46253\n",
            "_MINAC22    46146\n",
            "_MINAC12    45871\n",
            "PAVIG13_    45360\n",
            "            ...  \n",
            "DISPCODE        0\n",
            "SEQNO           0\n",
            "_PSU            0\n",
            "SEXVAR          0\n",
            "_STATE          0\n",
            "Length: 152, dtype: int64\n"
          ]
        }
      ]
    },
    {
      "cell_type": "code",
      "source": [
        "## describe\n",
        "print(df.describe())"
      ],
      "metadata": {
        "colab": {
          "base_uri": "https://localhost:8080/"
        },
        "id": "lhxt4fyNADXH",
        "outputId": "0d0e9657-58f2-4de3-dfa2-5c1ff94577a8"
      },
      "execution_count": 11,
      "outputs": [
        {
          "output_type": "stream",
          "name": "stdout",
          "text": [
            "              _STATE         FMONTH         IDATE         IMONTH  \\\n",
            "count  163435.000000  163435.000000  1.634350e+05  163435.000000   \n",
            "mean       13.294961       6.725897  6.820439e+06       6.662851   \n",
            "std         6.861361       3.504478  3.435974e+06       3.436362   \n",
            "min         1.000000       1.000000  1.012024e+06       1.000000   \n",
            "25%         8.000000       4.000000  4.062023e+06       4.000000   \n",
            "50%        13.000000       7.000000  7.052023e+06       7.000000   \n",
            "75%        19.000000      10.000000  1.006202e+07      10.000000   \n",
            "max        24.000000      12.000000  1.231202e+07      12.000000   \n",
            "\n",
            "                IDAY          IYEAR       DISPCODE         SEQNO  \\\n",
            "count  163435.000000  163435.000000  163435.000000  1.634350e+05   \n",
            "mean       15.556527    2023.066087    1119.031419  2.023005e+09   \n",
            "std         8.679083       0.248436      39.255018  3.140274e+03   \n",
            "min         1.000000    2023.000000    1100.000000  2.023000e+09   \n",
            "25%         8.000000    2023.000000    1100.000000  2.023002e+09   \n",
            "50%        15.000000    2023.000000    1100.000000  2.023004e+09   \n",
            "75%        23.000000    2023.000000    1100.000000  2.023007e+09   \n",
            "max        31.000000    2024.000000    1200.000000  2.023017e+09   \n",
            "\n",
            "               _PSU  SAFETIME  ...       _CURECI2       DRNKANY6  \\\n",
            "count  1.634350e+05  127500.0  ...  163434.000000  163434.000000   \n",
            "mean   2.023005e+09       1.0  ...       1.494989       1.998372   \n",
            "std    3.140274e+03       0.0  ...       1.828497       1.954979   \n",
            "min    2.023000e+09       1.0  ...       1.000000       1.000000   \n",
            "25%    2.023002e+09       1.0  ...       1.000000       1.000000   \n",
            "50%    2.023004e+09       1.0  ...       1.000000       2.000000   \n",
            "75%    2.023007e+09       1.0  ...       1.000000       2.000000   \n",
            "max    2.023017e+09       1.0  ...       9.000000       9.000000   \n",
            "\n",
            "           DROCDY4_       _RFBING6      _DRNKWK2       _RFDRHV8  \\\n",
            "count  1.634340e+05  163434.000000  1.634340e+05  163434.000000   \n",
            "mean   7.915690e+01       1.749709  7.994301e+03       1.675300   \n",
            "std    2.280648e+02       2.142266  2.662994e+04       2.133796   \n",
            "min    5.397605e-79       1.000000  5.397605e-79       1.000000   \n",
            "25%    5.397605e-79       1.000000  5.397605e-79       1.000000   \n",
            "50%    3.000000e+00       1.000000  4.700000e+01       1.000000   \n",
            "75%    2.900000e+01       1.000000  4.000000e+02       1.000000   \n",
            "max    9.000000e+02       9.000000  9.990000e+04       9.000000   \n",
            "\n",
            "            _AIDTST4       _RFSEAT2      _RFSEAT3       _DRNKDRV  \n",
            "count  151760.000000  163434.000000  163434.00000  163434.000000  \n",
            "mean        2.023511       1.659318       1.72086       5.607511  \n",
            "std         1.678037       2.122090       2.11657       3.513745  \n",
            "min         1.000000       1.000000       1.00000       1.000000  \n",
            "25%         1.000000       1.000000       1.00000       2.000000  \n",
            "50%         2.000000       1.000000       1.00000       9.000000  \n",
            "75%         2.000000       1.000000       1.00000       9.000000  \n",
            "max         9.000000       9.000000       9.00000       9.000000  \n",
            "\n",
            "[8 rows x 152 columns]\n"
          ]
        }
      ]
    },
    {
      "cell_type": "markdown",
      "source": [
        "# 3. Columns filtering"
      ],
      "metadata": {
        "id": "Wk5ktOv0qHZw"
      }
    },
    {
      "cell_type": "markdown",
      "source": [
        "## 3.1. first columns filtering: > 30% null values"
      ],
      "metadata": {
        "id": "mOPyITnj175b"
      }
    },
    {
      "cell_type": "code",
      "source": [
        "## removing columns with 30% of nulls\n",
        "percent_missing  = df.isnull().sum()*100 / len(df)\n",
        "columns_below_30 = percent_missing[percent_missing < 30]\n",
        "\n",
        "## index to columns\n",
        "index_list = columns_below_30.reset_index()['index'].tolist()\n",
        "\n",
        "## filtering columns_below_30\n",
        "df = df[index_list].copy()"
      ],
      "metadata": {
        "id": "0FxhU4nblnzI"
      },
      "execution_count": 12,
      "outputs": []
    },
    {
      "cell_type": "markdown",
      "source": [
        "## 3.2. second columns filtering: colunas que interessam para o projeto"
      ],
      "metadata": {
        "id": "iHVunk2r2CTq"
      }
    },
    {
      "cell_type": "code",
      "source": [
        "## analysing each column\n",
        "liana   = df.iloc[:, :49]\n",
        "luiz    = df.iloc[:, 50:100]\n",
        "jessica = df.iloc[:, 101:]\n",
        "\n",
        "dict_luiz = {\n",
        "             \"_PACAT3\" : \"Physical Activity Categories\",\n",
        "             \"_RFHYPE6\": \"Adults who have been told they have high blood pressure by a doctor, nurse, or other health professional\",\n",
        "             \"_RFCHOL3\": \"Adults who have had their cholesterol checked and have been told by a doctor, nurse, or other health professional that it was high\",\n",
        "             \"_MICHD\"  : \"Respondents that have ever reported having coronary heart disease (CHD) or myocardial infarction (MI)\",\n",
        "             \"_LTASTH1\": \"Adults who have ever been told they have asthma\",\n",
        "             \"_AGEG5YR\": \"Fourteen-level age category\",\n",
        "             \"_DRDXAR2\": \"Respondents who have had a doctor diagnose them as having some form of arthritis\",\n",
        "             \"HTM4\"    : \"Reported height in meters\",\n",
        "             \"WTKG3\"   : \"Reported weight in kilograms\",\n",
        "             \"_BMI5CAT\": \"Four-level BMI categories\",\n",
        "             \"_EDUCAG\" : \"Calculated education level\",\n",
        "             \"_INCOMG1\": \"Calculated income level\",\n",
        "             \"_PAINDX3\": \"Physical Activity Index\"\n",
        "            }\n",
        "\n",
        "dict_liana = {\n",
        "              'SEXVAR'  : 'Sex of Respondent',\n",
        "              'GENHLTH' : 'General Health',\n",
        "              'PHYSHLTH': 'Number of Days Physical Health Not Good',\n",
        "              'MENTHLTH': 'Number of Days Mental Health Not Good',\n",
        "              'CHECKUP1': 'Length of time since last routine checkup',\n",
        "              'EXERANY2': 'Exercise in Past 30 Days',\n",
        "              'EXRACT12': 'Type of Physical Activity',\n",
        "              'EXERHMM1': 'Minutes or Hours Walking, Running, Jogging, or Swimming',\n",
        "              'EXRACT22': 'Other Type of Physical Activity Giving Most Exercise During Past Month',\n",
        "              'CVDINFR4': 'Ever Diagnosed with Heart Attack',\n",
        "              'CVDCRHD4': 'Ever Diagnosed with Angina or Coronary Heart Disease',\n",
        "              'CVDSTRK3': 'Ever Diagnosed with a Stroke',\n",
        "              'CHCOCNC1': '(Ever told) (you had) melanoma or any other types of cancer?',\n",
        "              'CHCCOPD3': 'Ever told you had C.O.P.D. emphysema or chronic bronchitis?',\n",
        "              'ADDEPEV3': '(Ever told) you had a depressive disorder',\n",
        "              'CHCKDNY2': 'Ever told you have kidney disease?',\n",
        "              'DIABETE4': '(Ever told) you had diabetes'\n",
        "             }\n",
        "\n",
        "dict_jessica = {\n",
        "              \"DECIDE\"  : \"Because of a physical, mental, or emotional condition, do you have serious difficulty concentrating, remembering, or making decisions?\",\n",
        "              \"DIFFALON\": \"Difficulty doing errands alone\",\n",
        "              \"_PHYS14D\": \"3 level not good physical health status: 0 days, 1-13 days, 14-30 days\",\n",
        "              \"_MENT14D\": \"3 level not good mental health status: 0 days, 1-13 days, 14-30 days\",\n",
        "              \"MAXVO21_\": \"Estimated Age-Gender Specific Maximum Oxygen Consumption\",\n",
        "              \"ACTIN13_\": \"Estimated Activity Intensity for First Activity\",\n",
        "              \"STRFREQ_\": \"Strength Activity Frequency per Week\",\n",
        "              \"PA3MIN_\" : \"Minutes of total Physical Activity per week\"\n",
        "              }"
      ],
      "metadata": {
        "id": "oh_o95yWYBaI",
        "collapsed": true
      },
      "execution_count": 13,
      "outputs": []
    },
    {
      "cell_type": "code",
      "source": [
        "## columns to keep\n",
        "columns_to_keep = list(dict_luiz.keys()) + list(dict_liana.keys()) + list(dict_jessica.keys())\n",
        "\n",
        "## df with selected columns\n",
        "df_filtered = df[columns_to_keep]\n",
        "\n",
        "# Exibir as primeiras linhas do novo DataFrame para verificar\n",
        "# print(df_filtered.head())\n",
        "df_filtered.shape"
      ],
      "metadata": {
        "colab": {
          "base_uri": "https://localhost:8080/"
        },
        "id": "871hlTc0verP",
        "outputId": "764f4675-e06e-48cb-84fc-a26c3f0f2f5e"
      },
      "execution_count": 14,
      "outputs": [
        {
          "output_type": "execute_result",
          "data": {
            "text/plain": [
              "(163435, 38)"
            ]
          },
          "metadata": {},
          "execution_count": 14
        }
      ]
    },
    {
      "cell_type": "markdown",
      "source": [
        "# 4. refined treatment of columns"
      ],
      "metadata": {
        "id": "93A9xSti2NmH"
      }
    },
    {
      "cell_type": "code",
      "source": [
        "## weight (WTKG3)\n",
        "# transforming to kg\n",
        "df[\"WTKG3\"] = df[\"WTKG3\"]/100\n",
        "\n",
        "# logarithm\n"
      ],
      "metadata": {
        "id": "YwB9sIu12pDC"
      },
      "execution_count": 15,
      "outputs": []
    },
    {
      "cell_type": "markdown",
      "source": [
        "# 5. saving filtered columns"
      ],
      "metadata": {
        "id": "nYMLgCOS2jb0"
      }
    },
    {
      "cell_type": "code",
      "source": [
        "## saving filtered df\n",
        "df_filtered.to_csv('filtered_columns_LLCP2023.csv', index=False)"
      ],
      "metadata": {
        "id": "jYAtOsqUxeym"
      },
      "execution_count": 16,
      "outputs": []
    },
    {
      "cell_type": "code",
      "source": [
        "df_filtered.shape"
      ],
      "metadata": {
        "colab": {
          "base_uri": "https://localhost:8080/"
        },
        "id": "T7JpWAI_SvX5",
        "outputId": "397ca8ae-7f99-4c60-89cc-a9754b62d784"
      },
      "execution_count": 17,
      "outputs": [
        {
          "output_type": "execute_result",
          "data": {
            "text/plain": [
              "(163435, 38)"
            ]
          },
          "metadata": {},
          "execution_count": 17
        }
      ]
    }
  ]
}