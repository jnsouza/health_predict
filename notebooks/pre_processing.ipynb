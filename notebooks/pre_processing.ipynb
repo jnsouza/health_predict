{
  "nbformat": 4,
  "nbformat_minor": 0,
  "metadata": {
    "colab": {
      "provenance": [],
      "collapsed_sections": [
        "fx7Qlvpu7DPd",
        "JTNoFO8Qlq-l",
        "04Wxadi9lyNf",
        "-K4PAz-nj9sK",
        "riqReca5CgNE",
        "aFXg-LHW65g2",
        "CDf-jvP97WSZ",
        "je37HHGr7Z0h",
        "s5HGKCIpn0dq",
        "PTro5lgzk378",
        "uT4qL2ECk6Dh",
        "QLL6mhtggk3q",
        "q7Uz8SRyXKyW",
        "tzCtph8zaGTF",
        "cH1ssNzHXCIx",
        "xLsXAPQwjoXs",
        "Ny9D5pmzZ3XD",
        "_WZbYOQTUDJp",
        "nrZde4_Gha4S",
        "xEkAIAjp4s5m",
        "0AgmHgFNxjr9",
        "N8B4f3D48EKf",
        "IU0oppsL8w1t",
        "NJgJE9t4A-YA",
        "O2cjXyhX9D1X",
        "SKkMl0WsDlYi",
        "tTDHr3Fphin8",
        "kKa1XFLR6Kft",
        "z4tPSgrz8etA",
        "0mzA2nB885Dk",
        "-nsJ9VTcxl5u",
        "cFJKbU0PqQHQ"
      ],
      "gpuType": "T4"
    },
    "kernelspec": {
      "name": "python3",
      "display_name": "Python 3"
    },
    "language_info": {
      "name": "python"
    },
    "accelerator": "GPU"
  },
  "cells": [
    {
      "cell_type": "markdown",
      "source": [
        "# 1. loading data and overview"
      ],
      "metadata": {
        "id": "fx7Qlvpu7DPd"
      }
    },
    {
      "cell_type": "markdown",
      "source": [
        "## 1.1. libraries"
      ],
      "metadata": {
        "id": "JTNoFO8Qlq-l"
      }
    },
    {
      "cell_type": "code",
      "execution_count": 32,
      "metadata": {
        "id": "hHReYEbG8Hil"
      },
      "outputs": [],
      "source": [
        "from sklearn.preprocessing import OrdinalEncoder, OneHotEncoder, StandardScaler\n",
        "from sklearn.metrics import accuracy_score, classification_report\n",
        "from sklearn.model_selection import train_test_split\n",
        "from sklearn.linear_model import LogisticRegression\n",
        "from sklearn.neighbors import KNeighborsClassifier\n",
        "from tensorflow.keras.models import Sequential\n",
        "from sklearn.compose import ColumnTransformer\n",
        "from sklearn.naive_bayes import GaussianNB\n",
        "from tensorflow.keras.layers import Dense\n",
        "from sklearn.impute import SimpleImputer\n",
        "from sklearn.pipeline import Pipeline\n",
        "from sklearn.decomposition import PCA\n",
        "from sklearn.metrics import r2_score, mean_squared_error, mean_absolute_error\n",
        "import matplotlib.pyplot as plt\n",
        "from google.colab import drive\n",
        "from sklearn.svm import SVC\n",
        "import tensorflow as tf\n",
        "import seaborn as sns\n",
        "import pandas as pd\n",
        "import numpy as np\n",
        "import scipy.sparse as sp\n",
        "from sklearn.impute import SimpleImputer\n",
        "from sklearn.model_selection import RandomizedSearchCV, train_test_split\n",
        "from xgboost import XGBClassifier\n",
        "from sklearn.metrics import accuracy_score, classification_report, confusion_matrix, precision_score, recall_score, f1_score\n",
        "import warnings\n",
        "warnings.filterwarnings(\"ignore\")\n"
      ]
    },
    {
      "cell_type": "markdown",
      "source": [
        "## 1.2. loading data"
      ],
      "metadata": {
        "id": "04Wxadi9lyNf"
      }
    },
    {
      "cell_type": "code",
      "source": [
        "## caminho pro Google Drive\n",
        "# drive.mount('/content/drive', force_remount=True)\n",
        "# file = '/content/drive/MyDrive/Le Wagon/filtered_columns_LLCP2023.csv'\n",
        "\n",
        "## caminhi pro data local\n",
        "file = 'filtered_columns_LLCP2023.csv'\n",
        "df   = pd.read_csv(file)\n",
        "\n",
        "## DataFrame shape\n",
        "print(df.shape)"
      ],
      "metadata": {
        "id": "4zyVw448luHL",
        "colab": {
          "base_uri": "https://localhost:8080/"
        },
        "outputId": "f00fed2a-4201-4395-d16d-be2e136fa8a0"
      },
      "execution_count": 3,
      "outputs": [
        {
          "output_type": "stream",
          "name": "stdout",
          "text": [
            "(163435, 38)\n"
          ]
        }
      ]
    },
    {
      "cell_type": "code",
      "source": [],
      "metadata": {
        "id": "HploxsP0Q78x"
      },
      "execution_count": 3,
      "outputs": []
    },
    {
      "cell_type": "code",
      "source": [
        "df['_RFCHOL3'].value_counts()"
      ],
      "metadata": {
        "colab": {
          "base_uri": "https://localhost:8080/",
          "height": 0
        },
        "id": "evSxP68rmCqG",
        "outputId": "cec035a4-9d76-4c62-c832-628e6033b84c"
      },
      "execution_count": 4,
      "outputs": [
        {
          "output_type": "execute_result",
          "data": {
            "text/plain": [
              "_RFCHOL3\n",
              "1.0    81200\n",
              "2.0    61389\n",
              "9.0     1230\n",
              "Name: count, dtype: int64"
            ],
            "text/html": [
              "<div>\n",
              "<style scoped>\n",
              "    .dataframe tbody tr th:only-of-type {\n",
              "        vertical-align: middle;\n",
              "    }\n",
              "\n",
              "    .dataframe tbody tr th {\n",
              "        vertical-align: top;\n",
              "    }\n",
              "\n",
              "    .dataframe thead th {\n",
              "        text-align: right;\n",
              "    }\n",
              "</style>\n",
              "<table border=\"1\" class=\"dataframe\">\n",
              "  <thead>\n",
              "    <tr style=\"text-align: right;\">\n",
              "      <th></th>\n",
              "      <th>count</th>\n",
              "    </tr>\n",
              "    <tr>\n",
              "      <th>_RFCHOL3</th>\n",
              "      <th></th>\n",
              "    </tr>\n",
              "  </thead>\n",
              "  <tbody>\n",
              "    <tr>\n",
              "      <th>1.0</th>\n",
              "      <td>81200</td>\n",
              "    </tr>\n",
              "    <tr>\n",
              "      <th>2.0</th>\n",
              "      <td>61389</td>\n",
              "    </tr>\n",
              "    <tr>\n",
              "      <th>9.0</th>\n",
              "      <td>1230</td>\n",
              "    </tr>\n",
              "  </tbody>\n",
              "</table>\n",
              "</div><br><label><b>dtype:</b> int64</label>"
            ]
          },
          "metadata": {},
          "execution_count": 4
        }
      ]
    },
    {
      "cell_type": "code",
      "source": [
        "df.columns"
      ],
      "metadata": {
        "id": "H-bPCCK_f-OY",
        "colab": {
          "base_uri": "https://localhost:8080/"
        },
        "outputId": "14236736-47b6-4fa3-d71e-80afaaa3e7f1"
      },
      "execution_count": 5,
      "outputs": [
        {
          "output_type": "execute_result",
          "data": {
            "text/plain": [
              "Index(['_PACAT3', '_RFHYPE6', '_RFCHOL3', '_MICHD', '_LTASTH1', '_AGEG5YR',\n",
              "       '_DRDXAR2', 'HTM4', 'WTKG3', '_BMI5CAT', '_EDUCAG', '_INCOMG1',\n",
              "       '_PAINDX3', 'SEXVAR', 'GENHLTH', 'PHYSHLTH', 'MENTHLTH', 'CHECKUP1',\n",
              "       'EXERANY2', 'EXRACT12', 'EXERHMM1', 'EXRACT22', 'CVDINFR4', 'CVDCRHD4',\n",
              "       'CVDSTRK3', 'CHCOCNC1', 'CHCCOPD3', 'ADDEPEV3', 'CHCKDNY2', 'DIABETE4',\n",
              "       'DECIDE', 'DIFFALON', '_PHYS14D', '_MENT14D', 'MAXVO21_', 'ACTIN13_',\n",
              "       'STRFREQ_', 'PA3MIN_'],\n",
              "      dtype='object')"
            ]
          },
          "metadata": {},
          "execution_count": 5
        }
      ]
    },
    {
      "cell_type": "code",
      "source": [
        "pd.set_option('display.max_columns', None)\n",
        "pd.set_option('display.float_format', '{:.2f}'.format)"
      ],
      "metadata": {
        "id": "u2tw_H2wCKUx"
      },
      "execution_count": 6,
      "outputs": []
    },
    {
      "cell_type": "markdown",
      "source": [
        "## 1.3 functions"
      ],
      "metadata": {
        "id": "-K4PAz-nj9sK"
      }
    },
    {
      "cell_type": "code",
      "source": [
        "def compress(df, **kwargs):\n",
        "    \"\"\"\n",
        "    Reduces the size of the DataFrame by downcasting numerical columns\n",
        "    \"\"\"\n",
        "    input_size = df.memory_usage(index=True).sum()/ 1024**2\n",
        "    print(\"old dataframe size: \", round(input_size,2), 'MB')\n",
        "\n",
        "    in_size = df.memory_usage(index=True).sum()\n",
        "\n",
        "    for t in [\"float\", \"integer\"]:\n",
        "        l_cols = list(df.select_dtypes(include=t))\n",
        "\n",
        "        for col in l_cols:\n",
        "            df[col] = pd.to_numeric(df[col], downcast=t)\n",
        "\n",
        "    out_size = df.memory_usage(index=True).sum()\n",
        "    ratio = (1 - round(out_size / in_size, 2)) * 100\n",
        "\n",
        "    print(\"optimized size by {} %\".format(round(ratio,2)))\n",
        "    print(\"new DataFrame size: \", round(out_size / 1024**2,2), \" MB\")\n",
        "\n",
        "    return df"
      ],
      "metadata": {
        "id": "FEl-FLk6j-oY"
      },
      "execution_count": 7,
      "outputs": []
    },
    {
      "cell_type": "code",
      "source": [
        "df = compress(df, verbose=True)\n",
        "df.head(1)"
      ],
      "metadata": {
        "colab": {
          "base_uri": "https://localhost:8080/",
          "height": 0
        },
        "id": "7uU0sIw-kPgx",
        "outputId": "7dc874df-4149-4024-8899-5627e55b98fd"
      },
      "execution_count": 8,
      "outputs": [
        {
          "output_type": "stream",
          "name": "stdout",
          "text": [
            "old dataframe size:  47.38 MB\n",
            "optimized size by 50.0 %\n",
            "new DataFrame size:  23.69  MB\n"
          ]
        },
        {
          "output_type": "execute_result",
          "data": {
            "text/plain": [
              "   _PACAT3  _RFHYPE6  _RFCHOL3  _MICHD  _LTASTH1  _AGEG5YR  _DRDXAR2   HTM4  \\\n",
              "0     4.00      2.00      1.00    2.00      1.00     13.00      2.00 160.00   \n",
              "\n",
              "   WTKG3  _BMI5CAT  _EDUCAG  _INCOMG1  _PAINDX3  SEXVAR  GENHLTH  PHYSHLTH  \\\n",
              "0  78.02      4.00     3.00      9.00      2.00    2.00     2.00     88.00   \n",
              "\n",
              "   MENTHLTH  CHECKUP1  EXERANY2  EXRACT12  EXERHMM1  EXRACT22  CVDINFR4  \\\n",
              "0     88.00      2.00      2.00       NaN       NaN       NaN      2.00   \n",
              "\n",
              "   CVDCRHD4  CVDSTRK3  CHCOCNC1  CHCCOPD3  ADDEPEV3  CHCKDNY2  DIABETE4  \\\n",
              "0      2.00      2.00      2.00      2.00      2.00      2.00      1.00   \n",
              "\n",
              "   DECIDE  DIFFALON  _PHYS14D  _MENT14D  MAXVO21_  ACTIN13_  STRFREQ_  PA3MIN_  \n",
              "0    2.00      2.00      1.00      1.00   1840.00       NaN      0.00      NaN  "
            ],
            "text/html": [
              "\n",
              "  <div id=\"df-7049693c-4135-4138-b192-27288e74689e\" class=\"colab-df-container\">\n",
              "    <div>\n",
              "<style scoped>\n",
              "    .dataframe tbody tr th:only-of-type {\n",
              "        vertical-align: middle;\n",
              "    }\n",
              "\n",
              "    .dataframe tbody tr th {\n",
              "        vertical-align: top;\n",
              "    }\n",
              "\n",
              "    .dataframe thead th {\n",
              "        text-align: right;\n",
              "    }\n",
              "</style>\n",
              "<table border=\"1\" class=\"dataframe\">\n",
              "  <thead>\n",
              "    <tr style=\"text-align: right;\">\n",
              "      <th></th>\n",
              "      <th>_PACAT3</th>\n",
              "      <th>_RFHYPE6</th>\n",
              "      <th>_RFCHOL3</th>\n",
              "      <th>_MICHD</th>\n",
              "      <th>_LTASTH1</th>\n",
              "      <th>_AGEG5YR</th>\n",
              "      <th>_DRDXAR2</th>\n",
              "      <th>HTM4</th>\n",
              "      <th>WTKG3</th>\n",
              "      <th>_BMI5CAT</th>\n",
              "      <th>_EDUCAG</th>\n",
              "      <th>_INCOMG1</th>\n",
              "      <th>_PAINDX3</th>\n",
              "      <th>SEXVAR</th>\n",
              "      <th>GENHLTH</th>\n",
              "      <th>PHYSHLTH</th>\n",
              "      <th>MENTHLTH</th>\n",
              "      <th>CHECKUP1</th>\n",
              "      <th>EXERANY2</th>\n",
              "      <th>EXRACT12</th>\n",
              "      <th>EXERHMM1</th>\n",
              "      <th>EXRACT22</th>\n",
              "      <th>CVDINFR4</th>\n",
              "      <th>CVDCRHD4</th>\n",
              "      <th>CVDSTRK3</th>\n",
              "      <th>CHCOCNC1</th>\n",
              "      <th>CHCCOPD3</th>\n",
              "      <th>ADDEPEV3</th>\n",
              "      <th>CHCKDNY2</th>\n",
              "      <th>DIABETE4</th>\n",
              "      <th>DECIDE</th>\n",
              "      <th>DIFFALON</th>\n",
              "      <th>_PHYS14D</th>\n",
              "      <th>_MENT14D</th>\n",
              "      <th>MAXVO21_</th>\n",
              "      <th>ACTIN13_</th>\n",
              "      <th>STRFREQ_</th>\n",
              "      <th>PA3MIN_</th>\n",
              "    </tr>\n",
              "  </thead>\n",
              "  <tbody>\n",
              "    <tr>\n",
              "      <th>0</th>\n",
              "      <td>4.00</td>\n",
              "      <td>2.00</td>\n",
              "      <td>1.00</td>\n",
              "      <td>2.00</td>\n",
              "      <td>1.00</td>\n",
              "      <td>13.00</td>\n",
              "      <td>2.00</td>\n",
              "      <td>160.00</td>\n",
              "      <td>78.02</td>\n",
              "      <td>4.00</td>\n",
              "      <td>3.00</td>\n",
              "      <td>9.00</td>\n",
              "      <td>2.00</td>\n",
              "      <td>2.00</td>\n",
              "      <td>2.00</td>\n",
              "      <td>88.00</td>\n",
              "      <td>88.00</td>\n",
              "      <td>2.00</td>\n",
              "      <td>2.00</td>\n",
              "      <td>NaN</td>\n",
              "      <td>NaN</td>\n",
              "      <td>NaN</td>\n",
              "      <td>2.00</td>\n",
              "      <td>2.00</td>\n",
              "      <td>2.00</td>\n",
              "      <td>2.00</td>\n",
              "      <td>2.00</td>\n",
              "      <td>2.00</td>\n",
              "      <td>2.00</td>\n",
              "      <td>1.00</td>\n",
              "      <td>2.00</td>\n",
              "      <td>2.00</td>\n",
              "      <td>1.00</td>\n",
              "      <td>1.00</td>\n",
              "      <td>1840.00</td>\n",
              "      <td>NaN</td>\n",
              "      <td>0.00</td>\n",
              "      <td>NaN</td>\n",
              "    </tr>\n",
              "  </tbody>\n",
              "</table>\n",
              "</div>\n",
              "    <div class=\"colab-df-buttons\">\n",
              "\n",
              "  <div class=\"colab-df-container\">\n",
              "    <button class=\"colab-df-convert\" onclick=\"convertToInteractive('df-7049693c-4135-4138-b192-27288e74689e')\"\n",
              "            title=\"Convert this dataframe to an interactive table.\"\n",
              "            style=\"display:none;\">\n",
              "\n",
              "  <svg xmlns=\"http://www.w3.org/2000/svg\" height=\"24px\" viewBox=\"0 -960 960 960\">\n",
              "    <path d=\"M120-120v-720h720v720H120Zm60-500h600v-160H180v160Zm220 220h160v-160H400v160Zm0 220h160v-160H400v160ZM180-400h160v-160H180v160Zm440 0h160v-160H620v160ZM180-180h160v-160H180v160Zm440 0h160v-160H620v160Z\"/>\n",
              "  </svg>\n",
              "    </button>\n",
              "\n",
              "  <style>\n",
              "    .colab-df-container {\n",
              "      display:flex;\n",
              "      gap: 12px;\n",
              "    }\n",
              "\n",
              "    .colab-df-convert {\n",
              "      background-color: #E8F0FE;\n",
              "      border: none;\n",
              "      border-radius: 50%;\n",
              "      cursor: pointer;\n",
              "      display: none;\n",
              "      fill: #1967D2;\n",
              "      height: 32px;\n",
              "      padding: 0 0 0 0;\n",
              "      width: 32px;\n",
              "    }\n",
              "\n",
              "    .colab-df-convert:hover {\n",
              "      background-color: #E2EBFA;\n",
              "      box-shadow: 0px 1px 2px rgba(60, 64, 67, 0.3), 0px 1px 3px 1px rgba(60, 64, 67, 0.15);\n",
              "      fill: #174EA6;\n",
              "    }\n",
              "\n",
              "    .colab-df-buttons div {\n",
              "      margin-bottom: 4px;\n",
              "    }\n",
              "\n",
              "    [theme=dark] .colab-df-convert {\n",
              "      background-color: #3B4455;\n",
              "      fill: #D2E3FC;\n",
              "    }\n",
              "\n",
              "    [theme=dark] .colab-df-convert:hover {\n",
              "      background-color: #434B5C;\n",
              "      box-shadow: 0px 1px 3px 1px rgba(0, 0, 0, 0.15);\n",
              "      filter: drop-shadow(0px 1px 2px rgba(0, 0, 0, 0.3));\n",
              "      fill: #FFFFFF;\n",
              "    }\n",
              "  </style>\n",
              "\n",
              "    <script>\n",
              "      const buttonEl =\n",
              "        document.querySelector('#df-7049693c-4135-4138-b192-27288e74689e button.colab-df-convert');\n",
              "      buttonEl.style.display =\n",
              "        google.colab.kernel.accessAllowed ? 'block' : 'none';\n",
              "\n",
              "      async function convertToInteractive(key) {\n",
              "        const element = document.querySelector('#df-7049693c-4135-4138-b192-27288e74689e');\n",
              "        const dataTable =\n",
              "          await google.colab.kernel.invokeFunction('convertToInteractive',\n",
              "                                                    [key], {});\n",
              "        if (!dataTable) return;\n",
              "\n",
              "        const docLinkHtml = 'Like what you see? Visit the ' +\n",
              "          '<a target=\"_blank\" href=https://colab.research.google.com/notebooks/data_table.ipynb>data table notebook</a>'\n",
              "          + ' to learn more about interactive tables.';\n",
              "        element.innerHTML = '';\n",
              "        dataTable['output_type'] = 'display_data';\n",
              "        await google.colab.output.renderOutput(dataTable, element);\n",
              "        const docLink = document.createElement('div');\n",
              "        docLink.innerHTML = docLinkHtml;\n",
              "        element.appendChild(docLink);\n",
              "      }\n",
              "    </script>\n",
              "  </div>\n",
              "\n",
              "\n",
              "    </div>\n",
              "  </div>\n"
            ],
            "application/vnd.google.colaboratory.intrinsic+json": {
              "type": "dataframe",
              "variable_name": "df"
            }
          },
          "metadata": {},
          "execution_count": 8
        }
      ]
    },
    {
      "cell_type": "code",
      "source": [
        "df.dtypes"
      ],
      "metadata": {
        "colab": {
          "base_uri": "https://localhost:8080/",
          "height": 0
        },
        "id": "cGy0qjGlkVEv",
        "outputId": "40d29c8d-ae41-4184-c72a-daaaaaac1cd2"
      },
      "execution_count": 9,
      "outputs": [
        {
          "output_type": "execute_result",
          "data": {
            "text/plain": [
              "_PACAT3     float32\n",
              "_RFHYPE6    float32\n",
              "_RFCHOL3    float32\n",
              "_MICHD      float32\n",
              "_LTASTH1    float32\n",
              "_AGEG5YR    float32\n",
              "_DRDXAR2    float32\n",
              "HTM4        float32\n",
              "WTKG3       float32\n",
              "_BMI5CAT    float32\n",
              "_EDUCAG     float32\n",
              "_INCOMG1    float32\n",
              "_PAINDX3    float32\n",
              "SEXVAR      float32\n",
              "GENHLTH     float32\n",
              "PHYSHLTH    float32\n",
              "MENTHLTH    float32\n",
              "CHECKUP1    float32\n",
              "EXERANY2    float32\n",
              "EXRACT12    float32\n",
              "EXERHMM1    float32\n",
              "EXRACT22    float32\n",
              "CVDINFR4    float32\n",
              "CVDCRHD4    float32\n",
              "CVDSTRK3    float32\n",
              "CHCOCNC1    float32\n",
              "CHCCOPD3    float32\n",
              "ADDEPEV3    float32\n",
              "CHCKDNY2    float32\n",
              "DIABETE4    float32\n",
              "DECIDE      float32\n",
              "DIFFALON    float32\n",
              "_PHYS14D    float32\n",
              "_MENT14D    float32\n",
              "MAXVO21_    float32\n",
              "ACTIN13_    float32\n",
              "STRFREQ_    float32\n",
              "PA3MIN_     float32\n",
              "dtype: object"
            ],
            "text/html": [
              "<div>\n",
              "<style scoped>\n",
              "    .dataframe tbody tr th:only-of-type {\n",
              "        vertical-align: middle;\n",
              "    }\n",
              "\n",
              "    .dataframe tbody tr th {\n",
              "        vertical-align: top;\n",
              "    }\n",
              "\n",
              "    .dataframe thead th {\n",
              "        text-align: right;\n",
              "    }\n",
              "</style>\n",
              "<table border=\"1\" class=\"dataframe\">\n",
              "  <thead>\n",
              "    <tr style=\"text-align: right;\">\n",
              "      <th></th>\n",
              "      <th>0</th>\n",
              "    </tr>\n",
              "  </thead>\n",
              "  <tbody>\n",
              "    <tr>\n",
              "      <th>_PACAT3</th>\n",
              "      <td>float32</td>\n",
              "    </tr>\n",
              "    <tr>\n",
              "      <th>_RFHYPE6</th>\n",
              "      <td>float32</td>\n",
              "    </tr>\n",
              "    <tr>\n",
              "      <th>_RFCHOL3</th>\n",
              "      <td>float32</td>\n",
              "    </tr>\n",
              "    <tr>\n",
              "      <th>_MICHD</th>\n",
              "      <td>float32</td>\n",
              "    </tr>\n",
              "    <tr>\n",
              "      <th>_LTASTH1</th>\n",
              "      <td>float32</td>\n",
              "    </tr>\n",
              "    <tr>\n",
              "      <th>_AGEG5YR</th>\n",
              "      <td>float32</td>\n",
              "    </tr>\n",
              "    <tr>\n",
              "      <th>_DRDXAR2</th>\n",
              "      <td>float32</td>\n",
              "    </tr>\n",
              "    <tr>\n",
              "      <th>HTM4</th>\n",
              "      <td>float32</td>\n",
              "    </tr>\n",
              "    <tr>\n",
              "      <th>WTKG3</th>\n",
              "      <td>float32</td>\n",
              "    </tr>\n",
              "    <tr>\n",
              "      <th>_BMI5CAT</th>\n",
              "      <td>float32</td>\n",
              "    </tr>\n",
              "    <tr>\n",
              "      <th>_EDUCAG</th>\n",
              "      <td>float32</td>\n",
              "    </tr>\n",
              "    <tr>\n",
              "      <th>_INCOMG1</th>\n",
              "      <td>float32</td>\n",
              "    </tr>\n",
              "    <tr>\n",
              "      <th>_PAINDX3</th>\n",
              "      <td>float32</td>\n",
              "    </tr>\n",
              "    <tr>\n",
              "      <th>SEXVAR</th>\n",
              "      <td>float32</td>\n",
              "    </tr>\n",
              "    <tr>\n",
              "      <th>GENHLTH</th>\n",
              "      <td>float32</td>\n",
              "    </tr>\n",
              "    <tr>\n",
              "      <th>PHYSHLTH</th>\n",
              "      <td>float32</td>\n",
              "    </tr>\n",
              "    <tr>\n",
              "      <th>MENTHLTH</th>\n",
              "      <td>float32</td>\n",
              "    </tr>\n",
              "    <tr>\n",
              "      <th>CHECKUP1</th>\n",
              "      <td>float32</td>\n",
              "    </tr>\n",
              "    <tr>\n",
              "      <th>EXERANY2</th>\n",
              "      <td>float32</td>\n",
              "    </tr>\n",
              "    <tr>\n",
              "      <th>EXRACT12</th>\n",
              "      <td>float32</td>\n",
              "    </tr>\n",
              "    <tr>\n",
              "      <th>EXERHMM1</th>\n",
              "      <td>float32</td>\n",
              "    </tr>\n",
              "    <tr>\n",
              "      <th>EXRACT22</th>\n",
              "      <td>float32</td>\n",
              "    </tr>\n",
              "    <tr>\n",
              "      <th>CVDINFR4</th>\n",
              "      <td>float32</td>\n",
              "    </tr>\n",
              "    <tr>\n",
              "      <th>CVDCRHD4</th>\n",
              "      <td>float32</td>\n",
              "    </tr>\n",
              "    <tr>\n",
              "      <th>CVDSTRK3</th>\n",
              "      <td>float32</td>\n",
              "    </tr>\n",
              "    <tr>\n",
              "      <th>CHCOCNC1</th>\n",
              "      <td>float32</td>\n",
              "    </tr>\n",
              "    <tr>\n",
              "      <th>CHCCOPD3</th>\n",
              "      <td>float32</td>\n",
              "    </tr>\n",
              "    <tr>\n",
              "      <th>ADDEPEV3</th>\n",
              "      <td>float32</td>\n",
              "    </tr>\n",
              "    <tr>\n",
              "      <th>CHCKDNY2</th>\n",
              "      <td>float32</td>\n",
              "    </tr>\n",
              "    <tr>\n",
              "      <th>DIABETE4</th>\n",
              "      <td>float32</td>\n",
              "    </tr>\n",
              "    <tr>\n",
              "      <th>DECIDE</th>\n",
              "      <td>float32</td>\n",
              "    </tr>\n",
              "    <tr>\n",
              "      <th>DIFFALON</th>\n",
              "      <td>float32</td>\n",
              "    </tr>\n",
              "    <tr>\n",
              "      <th>_PHYS14D</th>\n",
              "      <td>float32</td>\n",
              "    </tr>\n",
              "    <tr>\n",
              "      <th>_MENT14D</th>\n",
              "      <td>float32</td>\n",
              "    </tr>\n",
              "    <tr>\n",
              "      <th>MAXVO21_</th>\n",
              "      <td>float32</td>\n",
              "    </tr>\n",
              "    <tr>\n",
              "      <th>ACTIN13_</th>\n",
              "      <td>float32</td>\n",
              "    </tr>\n",
              "    <tr>\n",
              "      <th>STRFREQ_</th>\n",
              "      <td>float32</td>\n",
              "    </tr>\n",
              "    <tr>\n",
              "      <th>PA3MIN_</th>\n",
              "      <td>float32</td>\n",
              "    </tr>\n",
              "  </tbody>\n",
              "</table>\n",
              "</div><br><label><b>dtype:</b> object</label>"
            ]
          },
          "metadata": {},
          "execution_count": 9
        }
      ]
    },
    {
      "cell_type": "markdown",
      "source": [
        "# 2. null values"
      ],
      "metadata": {
        "id": "riqReca5CgNE"
      }
    },
    {
      "cell_type": "code",
      "source": [
        "## overview - missing values\n",
        "missing_values        = df.isnull().sum()\n",
        "missing_values_sorted = missing_values.sort_values(ascending=False)\n",
        "print(missing_values_sorted.head(20))"
      ],
      "metadata": {
        "id": "Z7fsqDEH-YhM",
        "colab": {
          "base_uri": "https://localhost:8080/"
        },
        "outputId": "3d9763b4-1d1c-4deb-f338-307feabf5a70",
        "collapsed": true
      },
      "execution_count": 10,
      "outputs": [
        {
          "output_type": "stream",
          "name": "stdout",
          "text": [
            "PA3MIN_     46253\n",
            "ACTIN13_    43573\n",
            "EXERHMM1    41422\n",
            "EXRACT22    41422\n",
            "EXRACT12    40620\n",
            "_RFCHOL3    19616\n",
            "_BMI5CAT    15119\n",
            "WTKG3       12676\n",
            "HTM4         8414\n",
            "DIFFALON     6901\n",
            "DECIDE       5832\n",
            "STRFREQ_     5163\n",
            "_MICHD       1806\n",
            "_DRDXAR2      929\n",
            "DIABETE4        3\n",
            "PHYSHLTH        2\n",
            "MENTHLTH        2\n",
            "GENHLTH         2\n",
            "EXERANY2        2\n",
            "CVDINFR4        2\n",
            "dtype: int64\n"
          ]
        }
      ]
    },
    {
      "cell_type": "markdown",
      "source": [
        "# 3. categorical and numerical variables"
      ],
      "metadata": {
        "id": "aFXg-LHW65g2"
      }
    },
    {
      "cell_type": "markdown",
      "source": [
        "## 3.1. categorical variables"
      ],
      "metadata": {
        "id": "CDf-jvP97WSZ"
      }
    },
    {
      "cell_type": "markdown",
      "source": [
        "Código abaixo trata as variáveis categóricas e substitui os valores por nan, de acordo com as peculiaridades de cada coluna que foram examinadas"
      ],
      "metadata": {
        "id": "cw2CSFh2Kfxp"
      }
    },
    {
      "cell_type": "code",
      "source": [
        "## categorical variables\n",
        "categorical_col = ['_PACAT3', '_RFHYPE6', '_RFCHOL3', '_MICHD', '_LTASTH1',\n",
        "                   '_AGEG5YR', '_DRDXAR2', '_BMI5CAT', '_EDUCAG', '_INCOMG1',\n",
        "                   'SEXVAR', 'GENHLTH', 'EXERANY2', 'CHECKUP1', 'EXRACT12',\n",
        "                   'EXRACT22', 'CVDINFR4', 'CVDCRHD4', 'CVDSTRK3', 'CHCOCNC1',\n",
        "                   'CHCCOPD3', 'ADDEPEV3', 'CHCKDNY2', 'DIABETE4',\n",
        "                   'DECIDE', 'DIFFALON', '_PHYS14D', '_MENT14D', 'ACTIN13_', '_PAINDX3'\n",
        "                  ]\n",
        "\n",
        "## replacing 88 to zero and the others to NaN\n",
        "df[categorical_col] = df[categorical_col].replace(88.0, 0)\n",
        "df[categorical_col] = df[categorical_col].replace([77.0, 777.0, 7777.0, 888.0, 99.0, 999.0], np.nan)\n",
        "\n",
        "#_PACAT3, _INCOMG1, _PAINDX3  NAO tiramos o 9 para nao criar noise!!!!!!!!!!\n",
        "## 9 = refused (ref)\n",
        "cat_col_ref = [\"_RFCHOL3\", \"_LTASTH1\", \"GENHLTH\", \"EXERANY2\",\n",
        "               \"CHECKUP1\", \"CVDINFR4\", \"CVDCRHD4\", \"CVDSTRK3\", \"CHCOCNC1\", \"CHCCOPD3\",\n",
        "               \"ADDEPEV3\", \"CHCKDNY2\", \"DIABETE4\", \"DECIDE\", \"DIFFALON\", \"_PHYS14D\",\n",
        "               \"_MENT14D\", \"_RFHYPE6\", \"_EDUCAG\"]\n",
        "df[cat_col_ref] = df[cat_col_ref].replace(9.0, np.nan)\n",
        "\n",
        "\n",
        "## 7 = don't know (dk)\n",
        "cat_col_dk     = [\"GENHLTH\", \"DIABETE4\", \"EXERANY2\", \"CHECKUP1\", \"CVDINFR4\", \"CVDSTRK3\", \"CHCOCNC1\", \"CHCCOPD3\", \"ADDEPEV3\", \"CHCKDNY2\", \"DECIDE\", \"DIFFALON\"]\n",
        "df[cat_col_dk] = df[cat_col_dk].replace(7.0, np.nan)"
      ],
      "metadata": {
        "id": "yrnGSAMdJdjR"
      },
      "execution_count": 11,
      "outputs": []
    },
    {
      "cell_type": "markdown",
      "source": [
        "## 3.2. numerical variables"
      ],
      "metadata": {
        "id": "je37HHGr7Z0h"
      }
    },
    {
      "cell_type": "code",
      "source": [
        "## selecting numeric columns\n",
        "numerical_cols  = df.drop(columns=categorical_col)\n",
        "\n",
        "## columns where 77/88/888/999 should NOT be NaN (part of the dataset - manually verified (vrf))\n",
        "num_col_not_nan = [\"HTM4\", \"WTKG3\", \"EXERHMM1\", \"MAXVO21_\", \"STRFREQ_\", \"PA3MIN_\"]\n",
        "\n",
        "## filtering numeric columns where 77/88/888 should be NaN\n",
        "num_col_nan = numerical_cols.drop(columns=num_col_not_nan)\n",
        "\n",
        "## replacing 88 to zero and the others to NaN\n",
        "df[num_col_nan.columns] = df[num_col_nan.columns].replace(88.0, 0)\n",
        "df[num_col_nan.columns] = df[num_col_nan.columns].replace([77.0, 777.0, 7777.0, 888.0, 99.0, 999.0], np.nan)\n",
        "\n",
        "## 99900.0 = NaN\n",
        "df[[\"MAXVO21_\", \"STRFREQ_\"]] = df[[\"MAXVO21_\", \"STRFREQ_\"]].replace([99900.0], np.nan)"
      ],
      "metadata": {
        "id": "ecSNBLcIwCto"
      },
      "execution_count": 12,
      "outputs": []
    },
    {
      "cell_type": "code",
      "source": [
        "df.head()"
      ],
      "metadata": {
        "colab": {
          "base_uri": "https://localhost:8080/",
          "height": 0
        },
        "id": "-TuYn5IR2uqM",
        "outputId": "5cd4fbeb-726c-4bdb-867d-eb02abe1093d",
        "collapsed": true
      },
      "execution_count": 13,
      "outputs": [
        {
          "output_type": "execute_result",
          "data": {
            "text/plain": [
              "   _PACAT3  _RFHYPE6  _RFCHOL3  _MICHD  _LTASTH1  _AGEG5YR  _DRDXAR2   HTM4  \\\n",
              "0     4.00      2.00      1.00    2.00      1.00     13.00      2.00 160.00   \n",
              "1     1.00      2.00      2.00    2.00      1.00     13.00      1.00 145.00   \n",
              "2     9.00      2.00      2.00    2.00      2.00     13.00      1.00 163.00   \n",
              "3     9.00      1.00      1.00    2.00      1.00     12.00      1.00 168.00   \n",
              "4     1.00      2.00      1.00    2.00      1.00     12.00      1.00 173.00   \n",
              "\n",
              "   WTKG3  _BMI5CAT  _EDUCAG  _INCOMG1  _PAINDX3  SEXVAR  GENHLTH  PHYSHLTH  \\\n",
              "0  78.02      4.00     3.00      9.00      2.00    2.00     2.00      0.00   \n",
              "1  59.87      3.00     3.00      9.00      1.00    2.00     2.00      0.00   \n",
              "2  58.97      2.00     2.00      1.00      9.00    2.00     4.00      6.00   \n",
              "3  77.11      3.00     3.00      9.00      1.00    2.00     2.00      2.00   \n",
              "4  77.11      3.00     3.00      5.00      1.00    2.00     4.00      0.00   \n",
              "\n",
              "   MENTHLTH  CHECKUP1  EXERANY2  EXRACT12  EXERHMM1  EXRACT22  CVDINFR4  \\\n",
              "0      0.00      2.00      2.00       NaN       NaN       NaN      2.00   \n",
              "1      0.00      2.00      1.00      1.00     30.00      0.00      2.00   \n",
              "2      2.00      1.00      1.00      1.00     15.00      0.00      2.00   \n",
              "3      0.00      3.00      1.00      1.00     30.00      0.00      2.00   \n",
              "4      0.00      1.00      1.00      1.00     45.00      8.00      2.00   \n",
              "\n",
              "   CVDCRHD4  CVDSTRK3  CHCOCNC1  CHCCOPD3  ADDEPEV3  CHCKDNY2  DIABETE4  \\\n",
              "0      2.00      2.00      2.00      2.00      2.00      2.00      1.00   \n",
              "1      2.00      2.00      2.00      2.00      1.00      2.00      3.00   \n",
              "2      2.00      2.00      2.00      2.00      2.00      2.00      3.00   \n",
              "3      2.00      2.00      1.00      2.00      1.00      2.00      3.00   \n",
              "4      2.00      2.00      1.00      2.00      1.00      2.00      1.00   \n",
              "\n",
              "   DECIDE  DIFFALON  _PHYS14D  _MENT14D  MAXVO21_  ACTIN13_  STRFREQ_  PA3MIN_  \n",
              "0    2.00      2.00      1.00      1.00   1840.00       NaN      0.00      NaN  \n",
              "1    2.00      2.00      1.00      1.00   1803.00      2.00      0.00   360.00  \n",
              "2    1.00      2.00      2.00      2.00   1322.00      2.00   1167.00    36.00  \n",
              "3    2.00      2.00      2.00      1.00   1914.00      2.00      0.00   180.00  \n",
              "4    1.00      1.00      1.00      1.00   1988.00      2.00      0.00   600.00  "
            ],
            "text/html": [
              "\n",
              "  <div id=\"df-dc26da38-5dcc-49fe-9100-39caa7a23fb4\" class=\"colab-df-container\">\n",
              "    <div>\n",
              "<style scoped>\n",
              "    .dataframe tbody tr th:only-of-type {\n",
              "        vertical-align: middle;\n",
              "    }\n",
              "\n",
              "    .dataframe tbody tr th {\n",
              "        vertical-align: top;\n",
              "    }\n",
              "\n",
              "    .dataframe thead th {\n",
              "        text-align: right;\n",
              "    }\n",
              "</style>\n",
              "<table border=\"1\" class=\"dataframe\">\n",
              "  <thead>\n",
              "    <tr style=\"text-align: right;\">\n",
              "      <th></th>\n",
              "      <th>_PACAT3</th>\n",
              "      <th>_RFHYPE6</th>\n",
              "      <th>_RFCHOL3</th>\n",
              "      <th>_MICHD</th>\n",
              "      <th>_LTASTH1</th>\n",
              "      <th>_AGEG5YR</th>\n",
              "      <th>_DRDXAR2</th>\n",
              "      <th>HTM4</th>\n",
              "      <th>WTKG3</th>\n",
              "      <th>_BMI5CAT</th>\n",
              "      <th>_EDUCAG</th>\n",
              "      <th>_INCOMG1</th>\n",
              "      <th>_PAINDX3</th>\n",
              "      <th>SEXVAR</th>\n",
              "      <th>GENHLTH</th>\n",
              "      <th>PHYSHLTH</th>\n",
              "      <th>MENTHLTH</th>\n",
              "      <th>CHECKUP1</th>\n",
              "      <th>EXERANY2</th>\n",
              "      <th>EXRACT12</th>\n",
              "      <th>EXERHMM1</th>\n",
              "      <th>EXRACT22</th>\n",
              "      <th>CVDINFR4</th>\n",
              "      <th>CVDCRHD4</th>\n",
              "      <th>CVDSTRK3</th>\n",
              "      <th>CHCOCNC1</th>\n",
              "      <th>CHCCOPD3</th>\n",
              "      <th>ADDEPEV3</th>\n",
              "      <th>CHCKDNY2</th>\n",
              "      <th>DIABETE4</th>\n",
              "      <th>DECIDE</th>\n",
              "      <th>DIFFALON</th>\n",
              "      <th>_PHYS14D</th>\n",
              "      <th>_MENT14D</th>\n",
              "      <th>MAXVO21_</th>\n",
              "      <th>ACTIN13_</th>\n",
              "      <th>STRFREQ_</th>\n",
              "      <th>PA3MIN_</th>\n",
              "    </tr>\n",
              "  </thead>\n",
              "  <tbody>\n",
              "    <tr>\n",
              "      <th>0</th>\n",
              "      <td>4.00</td>\n",
              "      <td>2.00</td>\n",
              "      <td>1.00</td>\n",
              "      <td>2.00</td>\n",
              "      <td>1.00</td>\n",
              "      <td>13.00</td>\n",
              "      <td>2.00</td>\n",
              "      <td>160.00</td>\n",
              "      <td>78.02</td>\n",
              "      <td>4.00</td>\n",
              "      <td>3.00</td>\n",
              "      <td>9.00</td>\n",
              "      <td>2.00</td>\n",
              "      <td>2.00</td>\n",
              "      <td>2.00</td>\n",
              "      <td>0.00</td>\n",
              "      <td>0.00</td>\n",
              "      <td>2.00</td>\n",
              "      <td>2.00</td>\n",
              "      <td>NaN</td>\n",
              "      <td>NaN</td>\n",
              "      <td>NaN</td>\n",
              "      <td>2.00</td>\n",
              "      <td>2.00</td>\n",
              "      <td>2.00</td>\n",
              "      <td>2.00</td>\n",
              "      <td>2.00</td>\n",
              "      <td>2.00</td>\n",
              "      <td>2.00</td>\n",
              "      <td>1.00</td>\n",
              "      <td>2.00</td>\n",
              "      <td>2.00</td>\n",
              "      <td>1.00</td>\n",
              "      <td>1.00</td>\n",
              "      <td>1840.00</td>\n",
              "      <td>NaN</td>\n",
              "      <td>0.00</td>\n",
              "      <td>NaN</td>\n",
              "    </tr>\n",
              "    <tr>\n",
              "      <th>1</th>\n",
              "      <td>1.00</td>\n",
              "      <td>2.00</td>\n",
              "      <td>2.00</td>\n",
              "      <td>2.00</td>\n",
              "      <td>1.00</td>\n",
              "      <td>13.00</td>\n",
              "      <td>1.00</td>\n",
              "      <td>145.00</td>\n",
              "      <td>59.87</td>\n",
              "      <td>3.00</td>\n",
              "      <td>3.00</td>\n",
              "      <td>9.00</td>\n",
              "      <td>1.00</td>\n",
              "      <td>2.00</td>\n",
              "      <td>2.00</td>\n",
              "      <td>0.00</td>\n",
              "      <td>0.00</td>\n",
              "      <td>2.00</td>\n",
              "      <td>1.00</td>\n",
              "      <td>1.00</td>\n",
              "      <td>30.00</td>\n",
              "      <td>0.00</td>\n",
              "      <td>2.00</td>\n",
              "      <td>2.00</td>\n",
              "      <td>2.00</td>\n",
              "      <td>2.00</td>\n",
              "      <td>2.00</td>\n",
              "      <td>1.00</td>\n",
              "      <td>2.00</td>\n",
              "      <td>3.00</td>\n",
              "      <td>2.00</td>\n",
              "      <td>2.00</td>\n",
              "      <td>1.00</td>\n",
              "      <td>1.00</td>\n",
              "      <td>1803.00</td>\n",
              "      <td>2.00</td>\n",
              "      <td>0.00</td>\n",
              "      <td>360.00</td>\n",
              "    </tr>\n",
              "    <tr>\n",
              "      <th>2</th>\n",
              "      <td>9.00</td>\n",
              "      <td>2.00</td>\n",
              "      <td>2.00</td>\n",
              "      <td>2.00</td>\n",
              "      <td>2.00</td>\n",
              "      <td>13.00</td>\n",
              "      <td>1.00</td>\n",
              "      <td>163.00</td>\n",
              "      <td>58.97</td>\n",
              "      <td>2.00</td>\n",
              "      <td>2.00</td>\n",
              "      <td>1.00</td>\n",
              "      <td>9.00</td>\n",
              "      <td>2.00</td>\n",
              "      <td>4.00</td>\n",
              "      <td>6.00</td>\n",
              "      <td>2.00</td>\n",
              "      <td>1.00</td>\n",
              "      <td>1.00</td>\n",
              "      <td>1.00</td>\n",
              "      <td>15.00</td>\n",
              "      <td>0.00</td>\n",
              "      <td>2.00</td>\n",
              "      <td>2.00</td>\n",
              "      <td>2.00</td>\n",
              "      <td>2.00</td>\n",
              "      <td>2.00</td>\n",
              "      <td>2.00</td>\n",
              "      <td>2.00</td>\n",
              "      <td>3.00</td>\n",
              "      <td>1.00</td>\n",
              "      <td>2.00</td>\n",
              "      <td>2.00</td>\n",
              "      <td>2.00</td>\n",
              "      <td>1322.00</td>\n",
              "      <td>2.00</td>\n",
              "      <td>1167.00</td>\n",
              "      <td>36.00</td>\n",
              "    </tr>\n",
              "    <tr>\n",
              "      <th>3</th>\n",
              "      <td>9.00</td>\n",
              "      <td>1.00</td>\n",
              "      <td>1.00</td>\n",
              "      <td>2.00</td>\n",
              "      <td>1.00</td>\n",
              "      <td>12.00</td>\n",
              "      <td>1.00</td>\n",
              "      <td>168.00</td>\n",
              "      <td>77.11</td>\n",
              "      <td>3.00</td>\n",
              "      <td>3.00</td>\n",
              "      <td>9.00</td>\n",
              "      <td>1.00</td>\n",
              "      <td>2.00</td>\n",
              "      <td>2.00</td>\n",
              "      <td>2.00</td>\n",
              "      <td>0.00</td>\n",
              "      <td>3.00</td>\n",
              "      <td>1.00</td>\n",
              "      <td>1.00</td>\n",
              "      <td>30.00</td>\n",
              "      <td>0.00</td>\n",
              "      <td>2.00</td>\n",
              "      <td>2.00</td>\n",
              "      <td>2.00</td>\n",
              "      <td>1.00</td>\n",
              "      <td>2.00</td>\n",
              "      <td>1.00</td>\n",
              "      <td>2.00</td>\n",
              "      <td>3.00</td>\n",
              "      <td>2.00</td>\n",
              "      <td>2.00</td>\n",
              "      <td>2.00</td>\n",
              "      <td>1.00</td>\n",
              "      <td>1914.00</td>\n",
              "      <td>2.00</td>\n",
              "      <td>0.00</td>\n",
              "      <td>180.00</td>\n",
              "    </tr>\n",
              "    <tr>\n",
              "      <th>4</th>\n",
              "      <td>1.00</td>\n",
              "      <td>2.00</td>\n",
              "      <td>1.00</td>\n",
              "      <td>2.00</td>\n",
              "      <td>1.00</td>\n",
              "      <td>12.00</td>\n",
              "      <td>1.00</td>\n",
              "      <td>173.00</td>\n",
              "      <td>77.11</td>\n",
              "      <td>3.00</td>\n",
              "      <td>3.00</td>\n",
              "      <td>5.00</td>\n",
              "      <td>1.00</td>\n",
              "      <td>2.00</td>\n",
              "      <td>4.00</td>\n",
              "      <td>0.00</td>\n",
              "      <td>0.00</td>\n",
              "      <td>1.00</td>\n",
              "      <td>1.00</td>\n",
              "      <td>1.00</td>\n",
              "      <td>45.00</td>\n",
              "      <td>8.00</td>\n",
              "      <td>2.00</td>\n",
              "      <td>2.00</td>\n",
              "      <td>2.00</td>\n",
              "      <td>1.00</td>\n",
              "      <td>2.00</td>\n",
              "      <td>1.00</td>\n",
              "      <td>2.00</td>\n",
              "      <td>1.00</td>\n",
              "      <td>1.00</td>\n",
              "      <td>1.00</td>\n",
              "      <td>1.00</td>\n",
              "      <td>1.00</td>\n",
              "      <td>1988.00</td>\n",
              "      <td>2.00</td>\n",
              "      <td>0.00</td>\n",
              "      <td>600.00</td>\n",
              "    </tr>\n",
              "  </tbody>\n",
              "</table>\n",
              "</div>\n",
              "    <div class=\"colab-df-buttons\">\n",
              "\n",
              "  <div class=\"colab-df-container\">\n",
              "    <button class=\"colab-df-convert\" onclick=\"convertToInteractive('df-dc26da38-5dcc-49fe-9100-39caa7a23fb4')\"\n",
              "            title=\"Convert this dataframe to an interactive table.\"\n",
              "            style=\"display:none;\">\n",
              "\n",
              "  <svg xmlns=\"http://www.w3.org/2000/svg\" height=\"24px\" viewBox=\"0 -960 960 960\">\n",
              "    <path d=\"M120-120v-720h720v720H120Zm60-500h600v-160H180v160Zm220 220h160v-160H400v160Zm0 220h160v-160H400v160ZM180-400h160v-160H180v160Zm440 0h160v-160H620v160ZM180-180h160v-160H180v160Zm440 0h160v-160H620v160Z\"/>\n",
              "  </svg>\n",
              "    </button>\n",
              "\n",
              "  <style>\n",
              "    .colab-df-container {\n",
              "      display:flex;\n",
              "      gap: 12px;\n",
              "    }\n",
              "\n",
              "    .colab-df-convert {\n",
              "      background-color: #E8F0FE;\n",
              "      border: none;\n",
              "      border-radius: 50%;\n",
              "      cursor: pointer;\n",
              "      display: none;\n",
              "      fill: #1967D2;\n",
              "      height: 32px;\n",
              "      padding: 0 0 0 0;\n",
              "      width: 32px;\n",
              "    }\n",
              "\n",
              "    .colab-df-convert:hover {\n",
              "      background-color: #E2EBFA;\n",
              "      box-shadow: 0px 1px 2px rgba(60, 64, 67, 0.3), 0px 1px 3px 1px rgba(60, 64, 67, 0.15);\n",
              "      fill: #174EA6;\n",
              "    }\n",
              "\n",
              "    .colab-df-buttons div {\n",
              "      margin-bottom: 4px;\n",
              "    }\n",
              "\n",
              "    [theme=dark] .colab-df-convert {\n",
              "      background-color: #3B4455;\n",
              "      fill: #D2E3FC;\n",
              "    }\n",
              "\n",
              "    [theme=dark] .colab-df-convert:hover {\n",
              "      background-color: #434B5C;\n",
              "      box-shadow: 0px 1px 3px 1px rgba(0, 0, 0, 0.15);\n",
              "      filter: drop-shadow(0px 1px 2px rgba(0, 0, 0, 0.3));\n",
              "      fill: #FFFFFF;\n",
              "    }\n",
              "  </style>\n",
              "\n",
              "    <script>\n",
              "      const buttonEl =\n",
              "        document.querySelector('#df-dc26da38-5dcc-49fe-9100-39caa7a23fb4 button.colab-df-convert');\n",
              "      buttonEl.style.display =\n",
              "        google.colab.kernel.accessAllowed ? 'block' : 'none';\n",
              "\n",
              "      async function convertToInteractive(key) {\n",
              "        const element = document.querySelector('#df-dc26da38-5dcc-49fe-9100-39caa7a23fb4');\n",
              "        const dataTable =\n",
              "          await google.colab.kernel.invokeFunction('convertToInteractive',\n",
              "                                                    [key], {});\n",
              "        if (!dataTable) return;\n",
              "\n",
              "        const docLinkHtml = 'Like what you see? Visit the ' +\n",
              "          '<a target=\"_blank\" href=https://colab.research.google.com/notebooks/data_table.ipynb>data table notebook</a>'\n",
              "          + ' to learn more about interactive tables.';\n",
              "        element.innerHTML = '';\n",
              "        dataTable['output_type'] = 'display_data';\n",
              "        await google.colab.output.renderOutput(dataTable, element);\n",
              "        const docLink = document.createElement('div');\n",
              "        docLink.innerHTML = docLinkHtml;\n",
              "        element.appendChild(docLink);\n",
              "      }\n",
              "    </script>\n",
              "  </div>\n",
              "\n",
              "\n",
              "<div id=\"df-f14621ed-a0f9-4227-8b30-156bae9d22a9\">\n",
              "  <button class=\"colab-df-quickchart\" onclick=\"quickchart('df-f14621ed-a0f9-4227-8b30-156bae9d22a9')\"\n",
              "            title=\"Suggest charts\"\n",
              "            style=\"display:none;\">\n",
              "\n",
              "<svg xmlns=\"http://www.w3.org/2000/svg\" height=\"24px\"viewBox=\"0 0 24 24\"\n",
              "     width=\"24px\">\n",
              "    <g>\n",
              "        <path d=\"M19 3H5c-1.1 0-2 .9-2 2v14c0 1.1.9 2 2 2h14c1.1 0 2-.9 2-2V5c0-1.1-.9-2-2-2zM9 17H7v-7h2v7zm4 0h-2V7h2v10zm4 0h-2v-4h2v4z\"/>\n",
              "    </g>\n",
              "</svg>\n",
              "  </button>\n",
              "\n",
              "<style>\n",
              "  .colab-df-quickchart {\n",
              "      --bg-color: #E8F0FE;\n",
              "      --fill-color: #1967D2;\n",
              "      --hover-bg-color: #E2EBFA;\n",
              "      --hover-fill-color: #174EA6;\n",
              "      --disabled-fill-color: #AAA;\n",
              "      --disabled-bg-color: #DDD;\n",
              "  }\n",
              "\n",
              "  [theme=dark] .colab-df-quickchart {\n",
              "      --bg-color: #3B4455;\n",
              "      --fill-color: #D2E3FC;\n",
              "      --hover-bg-color: #434B5C;\n",
              "      --hover-fill-color: #FFFFFF;\n",
              "      --disabled-bg-color: #3B4455;\n",
              "      --disabled-fill-color: #666;\n",
              "  }\n",
              "\n",
              "  .colab-df-quickchart {\n",
              "    background-color: var(--bg-color);\n",
              "    border: none;\n",
              "    border-radius: 50%;\n",
              "    cursor: pointer;\n",
              "    display: none;\n",
              "    fill: var(--fill-color);\n",
              "    height: 32px;\n",
              "    padding: 0;\n",
              "    width: 32px;\n",
              "  }\n",
              "\n",
              "  .colab-df-quickchart:hover {\n",
              "    background-color: var(--hover-bg-color);\n",
              "    box-shadow: 0 1px 2px rgba(60, 64, 67, 0.3), 0 1px 3px 1px rgba(60, 64, 67, 0.15);\n",
              "    fill: var(--button-hover-fill-color);\n",
              "  }\n",
              "\n",
              "  .colab-df-quickchart-complete:disabled,\n",
              "  .colab-df-quickchart-complete:disabled:hover {\n",
              "    background-color: var(--disabled-bg-color);\n",
              "    fill: var(--disabled-fill-color);\n",
              "    box-shadow: none;\n",
              "  }\n",
              "\n",
              "  .colab-df-spinner {\n",
              "    border: 2px solid var(--fill-color);\n",
              "    border-color: transparent;\n",
              "    border-bottom-color: var(--fill-color);\n",
              "    animation:\n",
              "      spin 1s steps(1) infinite;\n",
              "  }\n",
              "\n",
              "  @keyframes spin {\n",
              "    0% {\n",
              "      border-color: transparent;\n",
              "      border-bottom-color: var(--fill-color);\n",
              "      border-left-color: var(--fill-color);\n",
              "    }\n",
              "    20% {\n",
              "      border-color: transparent;\n",
              "      border-left-color: var(--fill-color);\n",
              "      border-top-color: var(--fill-color);\n",
              "    }\n",
              "    30% {\n",
              "      border-color: transparent;\n",
              "      border-left-color: var(--fill-color);\n",
              "      border-top-color: var(--fill-color);\n",
              "      border-right-color: var(--fill-color);\n",
              "    }\n",
              "    40% {\n",
              "      border-color: transparent;\n",
              "      border-right-color: var(--fill-color);\n",
              "      border-top-color: var(--fill-color);\n",
              "    }\n",
              "    60% {\n",
              "      border-color: transparent;\n",
              "      border-right-color: var(--fill-color);\n",
              "    }\n",
              "    80% {\n",
              "      border-color: transparent;\n",
              "      border-right-color: var(--fill-color);\n",
              "      border-bottom-color: var(--fill-color);\n",
              "    }\n",
              "    90% {\n",
              "      border-color: transparent;\n",
              "      border-bottom-color: var(--fill-color);\n",
              "    }\n",
              "  }\n",
              "</style>\n",
              "\n",
              "  <script>\n",
              "    async function quickchart(key) {\n",
              "      const quickchartButtonEl =\n",
              "        document.querySelector('#' + key + ' button');\n",
              "      quickchartButtonEl.disabled = true;  // To prevent multiple clicks.\n",
              "      quickchartButtonEl.classList.add('colab-df-spinner');\n",
              "      try {\n",
              "        const charts = await google.colab.kernel.invokeFunction(\n",
              "            'suggestCharts', [key], {});\n",
              "      } catch (error) {\n",
              "        console.error('Error during call to suggestCharts:', error);\n",
              "      }\n",
              "      quickchartButtonEl.classList.remove('colab-df-spinner');\n",
              "      quickchartButtonEl.classList.add('colab-df-quickchart-complete');\n",
              "    }\n",
              "    (() => {\n",
              "      let quickchartButtonEl =\n",
              "        document.querySelector('#df-f14621ed-a0f9-4227-8b30-156bae9d22a9 button');\n",
              "      quickchartButtonEl.style.display =\n",
              "        google.colab.kernel.accessAllowed ? 'block' : 'none';\n",
              "    })();\n",
              "  </script>\n",
              "</div>\n",
              "\n",
              "    </div>\n",
              "  </div>\n"
            ],
            "application/vnd.google.colaboratory.intrinsic+json": {
              "type": "dataframe",
              "variable_name": "df"
            }
          },
          "metadata": {},
          "execution_count": 13
        }
      ]
    },
    {
      "cell_type": "markdown",
      "source": [
        "## 3.3. other features treatment"
      ],
      "metadata": {
        "id": "s5HGKCIpn0dq"
      }
    },
    {
      "cell_type": "code",
      "source": [
        "## copy\n",
        "df_transformed = df.copy()\n",
        "\n",
        "## alterando 1=yes, 2=no\n",
        "mapeamento_RFCHOL3  = {1:2, 2:1}\n",
        "mapeamento_LTASTH1  = {1:2, 2:1}\n",
        "mapeamento_DIABETE4 = {1:1, 2:1, 3:2, 4:2} # gravidas... viraram yes\n",
        "\n",
        "# Aplicando o mapeamento\n",
        "df_transformed['_RFCHOL3'] = df_transformed['_RFCHOL3'].map(mapeamento_RFCHOL3)\n",
        "df_transformed['_LTASTH1'] = df_transformed['_LTASTH1'].map(mapeamento_LTASTH1)\n",
        "df_transformed['DIABETE4'] = df_transformed['DIABETE4'].map(mapeamento_DIABETE4)"
      ],
      "metadata": {
        "id": "s_smuPe_n3Kb"
      },
      "execution_count": 14,
      "outputs": []
    },
    {
      "cell_type": "markdown",
      "source": [
        "# 4. encoding"
      ],
      "metadata": {
        "id": "PTro5lgzk378"
      }
    },
    {
      "cell_type": "markdown",
      "source": [
        "## 5.1. categorical columns"
      ],
      "metadata": {
        "id": "uT4qL2ECk6Dh"
      }
    },
    {
      "cell_type": "code",
      "source": [
        "## Definir as categorias específicas para cada variável ordinal\n",
        "ordinal_cols = ['_PACAT3', '_AGEG5YR', '_BMI5CAT', '_EDUCAG', '_INCOMG1',\n",
        "                'CHECKUP1', '_PHYS14D', '_MENT14D'] # GENHLTH é o target -> não passa por transformações\n",
        "\n",
        "categories = [\n",
        "    [1, 2, 3, 4, 9],                                  # _PACAT3 (Highly Active, Active, Insufficiently Active, Inactive)\n",
        "    [1, 2, 3, 4, 5, 6, 7, 8, 9, 10, 11, 12, 13, 14],  # _AGEG5YR (age groups from 1 to 14)\n",
        "    [1, 2, 3, 4],                                     # _BMI5CAT (underweight, normal, overweight, obese)\n",
        "    [1, 2, 3, 4],                                     # _EDUCAG (education levels)\n",
        "    [1, 2, 3, 4, 5, 6, 7, 8, 9],                      # _INCOMG1 (income groups from 1 to 8)\n",
        "    # [1, 2, 3, 4, 5],                                  # GENHLTH (health levels from Excellent to Poor) --> retirado, pois não tem encoding nela\n",
        "    [1, 2, 3, 4, 7, 8, 9],                            # CHECKUP1 (time since last checkup)\n",
        "    [1, 2, 3],                                        # _PHYS14D (0 days, 1-13 days, 14-30 days)\n",
        "    [1, 2, 3]                                         # _MENT14D (0 days, 1-13 days, 14-30 days)\n",
        "]\n",
        "\n",
        "## Definir as colunas nominais (sem ordem)\n",
        "drop_cols    = ordinal_cols + numerical_cols.columns.tolist()\n",
        "nominal_cols = df_transformed.drop(columns=drop_cols)\n",
        "nominal_cols = nominal_cols.drop(columns=\"GENHLTH\").columns"
      ],
      "metadata": {
        "id": "9O4pYGiajLBW",
        "collapsed": true
      },
      "execution_count": 15,
      "outputs": []
    },
    {
      "cell_type": "markdown",
      "source": [
        "# 5. pipeline das variaveis"
      ],
      "metadata": {
        "id": "QLL6mhtggk3q"
      }
    },
    {
      "cell_type": "code",
      "source": [
        "## numerical variables\n",
        "numerical_transformer = Pipeline(steps=[('imputer', SimpleImputer(strategy='mean')),\n",
        "                                        ('scaler',  StandardScaler())  # Normalização de colunas numéricas\n",
        "                                       ])\n",
        "\n",
        "## categorical variables\n",
        "# ordinal\n",
        "ordinal_transformer = Pipeline(steps=[('imputer', SimpleImputer(strategy='most_frequent')),  # Imputação de valores ausentes\n",
        "                                      ('ord_encoder', OrdinalEncoder(categories=categories)) # Aplicação do OrdinalEncoder\n",
        "                                     ])\n",
        "\n",
        "# nominals\n",
        "nominal_transformer = Pipeline(steps=[('imputer',        SimpleImputer(strategy='most_frequent')),  # Imputação de valores ausentes\n",
        "                                      ('onehot_encoder', OneHotEncoder(handle_unknown='ignore'))    # Aplicação do OneHotEncoder\n",
        "                                     ])\n",
        "\n",
        "\n",
        "## ColumnTransformer for all variables\n",
        "preprocessor = ColumnTransformer(transformers=[('num', numerical_transformer, numerical_cols.columns),\n",
        "                                               ('ord', ordinal_transformer,   df_transformed[ordinal_cols].columns),\n",
        "                                               ('nom', nominal_transformer,   nominal_cols)\n",
        "                                              ]\n",
        "                                )"
      ],
      "metadata": {
        "id": "DACMK7VGup1N"
      },
      "execution_count": 16,
      "outputs": []
    },
    {
      "cell_type": "markdown",
      "source": [
        "# 6. EDA"
      ],
      "metadata": {
        "id": "q7Uz8SRyXKyW"
      }
    },
    {
      "cell_type": "markdown",
      "source": [
        "### 7.1.1. target distribution"
      ],
      "metadata": {
        "id": "tzCtph8zaGTF"
      }
    },
    {
      "cell_type": "code",
      "source": [
        "plt.figure(figsize=(8, 6))\n",
        "sns.countplot(x='GENHLTH', data=df)\n",
        "plt.title('Distribuição das Classes de GENHLTH')\n",
        "plt.xlabel('Categorias de GENHLTH')\n",
        "plt.ylabel('Contagem')\n",
        "plt.show()"
      ],
      "metadata": {
        "id": "K2DJzfI2aNuJ",
        "colab": {
          "base_uri": "https://localhost:8080/",
          "height": 564
        },
        "outputId": "28a45f10-d0c3-471e-8c68-7240ce929d65",
        "collapsed": true
      },
      "execution_count": null,
      "outputs": [
        {
          "output_type": "display_data",
          "data": {
            "text/plain": [
              "<Figure size 800x600 with 1 Axes>"
            ],
            "image/png": "[encoded data removed]"
          },
          "metadata": {}
        }
      ]
    },
    {
      "cell_type": "markdown",
      "source": [
        "### 7.1.2. histograms"
      ],
      "metadata": {
        "id": "orNwsfTuW_aG"
      }
    },
    {
      "cell_type": "code",
      "source": [
        "# Iterar sobre cada coluna do dataframe\n",
        "for num_col in numerical_col.columns:\n",
        "    plt.figure(figsize=(10, 6))\n",
        "\n",
        "    # Plotar histograma para a coluna atual\n",
        "    plt.hist(df_imputed[num_col].dropna(), bins=30, edgecolor='k')\n",
        "\n",
        "    # Adicionar título e labels\n",
        "    plt.title(f'Distribuição da variável: {num_col}')\n",
        "    plt.xlabel(num_col)\n",
        "    plt.ylabel('Frequência')\n",
        "\n",
        "    # Mostrar o gráfico\n",
        "    plt.show()"
      ],
      "metadata": {
        "id": "vPIWG2aCWBmQ",
        "colab": {
          "base_uri": "https://localhost:8080/",
          "height": 222
        },
        "outputId": "9e24cd5f-39b0-4136-ca9f-658ab8bb183b"
      },
      "execution_count": null,
      "outputs": [
        {
          "output_type": "error",
          "ename": "NameError",
          "evalue": "name 'numerical_col' is not defined",
          "traceback": [
            "\u001b[0;31m---------------------------------------------------------------------------\u001b[0m",
            "\u001b[0;31mNameError\u001b[0m                                 Traceback (most recent call last)",
            "\u001b[0;32m<ipython-input-23-efa89454a62c>\u001b[0m in \u001b[0;36m<cell line: 2>\u001b[0;34m()\u001b[0m\n\u001b[1;32m      1\u001b[0m \u001b[0;31m# Iterar sobre cada coluna do dataframe\u001b[0m\u001b[0;34m\u001b[0m\u001b[0;34m\u001b[0m\u001b[0m\n\u001b[0;32m----> 2\u001b[0;31m \u001b[0;32mfor\u001b[0m \u001b[0mnum_col\u001b[0m \u001b[0;32min\u001b[0m \u001b[0mnumerical_col\u001b[0m\u001b[0;34m.\u001b[0m\u001b[0mcolumns\u001b[0m\u001b[0;34m:\u001b[0m\u001b[0;34m\u001b[0m\u001b[0;34m\u001b[0m\u001b[0m\n\u001b[0m\u001b[1;32m      3\u001b[0m     \u001b[0mplt\u001b[0m\u001b[0;34m.\u001b[0m\u001b[0mfigure\u001b[0m\u001b[0;34m(\u001b[0m\u001b[0mfigsize\u001b[0m\u001b[0;34m=\u001b[0m\u001b[0;34m(\u001b[0m\u001b[0;36m10\u001b[0m\u001b[0;34m,\u001b[0m \u001b[0;36m6\u001b[0m\u001b[0;34m)\u001b[0m\u001b[0;34m)\u001b[0m\u001b[0;34m\u001b[0m\u001b[0;34m\u001b[0m\u001b[0m\n\u001b[1;32m      4\u001b[0m \u001b[0;34m\u001b[0m\u001b[0m\n\u001b[1;32m      5\u001b[0m     \u001b[0;31m# Plotar histograma para a coluna atual\u001b[0m\u001b[0;34m\u001b[0m\u001b[0;34m\u001b[0m\u001b[0m\n",
            "\u001b[0;31mNameError\u001b[0m: name 'numerical_col' is not defined"
          ]
        }
      ]
    },
    {
      "cell_type": "markdown",
      "source": [
        "### 7.1.2. boxplot"
      ],
      "metadata": {
        "id": "cH1ssNzHXCIx"
      }
    },
    {
      "cell_type": "code",
      "source": [
        "for num_col in numerical_col.columns:\n",
        "    plt.figure(figsize=(10, 6))\n",
        "\n",
        "    # Plotar boxplot para a coluna atual\n",
        "    plt.boxplot(df_imputed[num_col].dropna(), vert=False, patch_artist=True)\n",
        "\n",
        "    # Adicionar título e labels\n",
        "    plt.title(f'Boxplot da variável: {num_col}')\n",
        "    plt.xlabel(num_col)\n",
        "\n",
        "    # Mostrar o gráfico\n",
        "    plt.show()"
      ],
      "metadata": {
        "id": "mWRGesWKXEzI"
      },
      "execution_count": null,
      "outputs": []
    },
    {
      "cell_type": "markdown",
      "source": [
        "### 7.1.3. barplot\n"
      ],
      "metadata": {
        "id": "xLsXAPQwjoXs"
      }
    },
    {
      "cell_type": "code",
      "source": [
        "import pandas as pd\n",
        "import matplotlib.pyplot as plt\n",
        "\n",
        "for i in categorical_col:\n",
        "        plt.figure(figsize=(7, 3))\n",
        "\n",
        "        counts = df[i].value_counts()\n",
        "        plt.bar(counts.index, counts.values, color='skyblue')\n",
        "        plt.xlabel(i)\n",
        "        plt.ylabel('Frequência')\n",
        "        plt.title(f'Barplot da Coluna: {i}')\n",
        "        plt.xticks(rotation=45)\n",
        "        plt.grid(axis='y')\n",
        "        plt.show()"
      ],
      "metadata": {
        "id": "yqTpX6DJjnVj"
      },
      "execution_count": null,
      "outputs": []
    },
    {
      "cell_type": "markdown",
      "source": [
        "### 7.1.4. scatterplot"
      ],
      "metadata": {
        "id": "Ny9D5pmzZ3XD"
      }
    },
    {
      "cell_type": "code",
      "source": [
        "# Supondo que df seja o seu DataFrame\n",
        "target = 'GENHLTH'\n",
        "\n",
        "# Criar scatterplots para todas as variáveis (menos o target)\n",
        "for column in df_scaled.columns:\n",
        "    if column != target:  # Excluir o target\n",
        "        plt.figure(figsize=(6, 4))\n",
        "        plt.scatter(df_scaled[column], df_imputed[target], alpha=0.5)\n",
        "        plt.title(f'Scatterplot: {column} vs {target}')\n",
        "        plt.xlabel(column)\n",
        "        plt.ylabel(target)\n",
        "        plt.show()"
      ],
      "metadata": {
        "id": "0oHt9BX6Z58B"
      },
      "execution_count": null,
      "outputs": []
    },
    {
      "cell_type": "markdown",
      "source": [
        "### 7.1.5. correlation"
      ],
      "metadata": {
        "id": "_WZbYOQTUDJp"
      }
    },
    {
      "cell_type": "code",
      "source": [
        "correlations = df_imputed.corr()['GENHLTH'].sort_values(ascending=False)\n",
        "print(correlations)"
      ],
      "metadata": {
        "id": "CaPXWoBGULmm"
      },
      "execution_count": null,
      "outputs": []
    },
    {
      "cell_type": "code",
      "source": [
        "df_imputed.columns"
      ],
      "metadata": {
        "id": "zdovzBkVcZQ_"
      },
      "execution_count": null,
      "outputs": []
    },
    {
      "cell_type": "markdown",
      "source": [
        "# 7. target"
      ],
      "metadata": {
        "id": "XUyOeOQya9Br"
      }
    },
    {
      "cell_type": "markdown",
      "source": [
        "## 7.1. target distribution"
      ],
      "metadata": {
        "id": "nrZde4_Gha4S"
      }
    },
    {
      "cell_type": "markdown",
      "source": [
        "### 7.1.1. original data"
      ],
      "metadata": {
        "id": "xEkAIAjp4s5m"
      }
    },
    {
      "cell_type": "code",
      "source": [
        "plt.figure(figsize=(8, 6))\n",
        "sns.countplot(x='GENHLTH', data=df)\n",
        "plt.title('Distribuição das Classes de GENHLTH')\n",
        "plt.xlabel('Categorias de GENHLTH')\n",
        "plt.ylabel('Contagem')\n",
        "plt.show()"
      ],
      "metadata": {
        "id": "TgSBThg8a-kD",
        "colab": {
          "base_uri": "https://localhost:8080/",
          "height": 0
        },
        "outputId": "2ca71f8f-39a2-438a-a10a-932e46aebba1"
      },
      "execution_count": 19,
      "outputs": [
        {
          "output_type": "display_data",
          "data": {
            "text/plain": [
              "<Figure size 800x600 with 1 Axes>"
            ],
            "image/png": "[encoded data removed]"
          },
          "metadata": {}
        }
      ]
    },
    {
      "cell_type": "markdown",
      "source": [
        "### 7.1.2. only 3 categories"
      ],
      "metadata": {
        "id": "JgxqArOG4wn-"
      }
    },
    {
      "cell_type": "code",
      "source": [
        "def label_engineering(genhlth):\n",
        "    if genhlth in [1, 2]:\n",
        "        return 0\n",
        "    elif genhlth in [4, 5]:\n",
        "        return 2  # Combina Fair e Poor\n",
        "    else:\n",
        "      return 1\n",
        "\n",
        "# Aplicando a função no target 'GENHLTH'\n",
        "df_transformed['GENHLTH'] = df_transformed['GENHLTH'].apply(label_engineering)\n",
        "df_transformed['GENHLTH'].value_counts().sort_index().plot(kind='bar')\n",
        "plt.xlabel(\"Categorias de GENHLTH (Ajustadas)\")\n",
        "plt.ylabel(\"Contagem\")\n",
        "plt.title(\"Distribuição das Novas Categorias de GENHLTH\")\n",
        "plt.show()"
      ],
      "metadata": {
        "id": "uWJxTc4b42Is",
        "colab": {
          "base_uri": "https://localhost:8080/",
          "height": 467
        },
        "outputId": "1478a8ea-c11f-4b23-e107-f962ff65c43e"
      },
      "execution_count": 20,
      "outputs": [
        {
          "output_type": "display_data",
          "data": {
            "text/plain": [
              "<Figure size 640x480 with 1 Axes>"
            ],
            "image/png": "[encoded data removed]"
          },
          "metadata": {}
        }
      ]
    },
    {
      "cell_type": "code",
      "source": [
        "df_transformed['GENHLTH'].value_counts()"
      ],
      "metadata": {
        "colab": {
          "base_uri": "https://localhost:8080/",
          "height": 178
        },
        "id": "5UP3Nywftu4w",
        "outputId": "92630c98-07ad-4821-d314-10d19051c0ad"
      },
      "execution_count": 21,
      "outputs": [
        {
          "output_type": "execute_result",
          "data": {
            "text/plain": [
              "GENHLTH\n",
              "0    87125\n",
              "1    76310\n",
              "Name: count, dtype: int64"
            ],
            "text/html": [
              "<div>\n",
              "<style scoped>\n",
              "    .dataframe tbody tr th:only-of-type {\n",
              "        vertical-align: middle;\n",
              "    }\n",
              "\n",
              "    .dataframe tbody tr th {\n",
              "        vertical-align: top;\n",
              "    }\n",
              "\n",
              "    .dataframe thead th {\n",
              "        text-align: right;\n",
              "    }\n",
              "</style>\n",
              "<table border=\"1\" class=\"dataframe\">\n",
              "  <thead>\n",
              "    <tr style=\"text-align: right;\">\n",
              "      <th></th>\n",
              "      <th>count</th>\n",
              "    </tr>\n",
              "    <tr>\n",
              "      <th>GENHLTH</th>\n",
              "      <th></th>\n",
              "    </tr>\n",
              "  </thead>\n",
              "  <tbody>\n",
              "    <tr>\n",
              "      <th>0</th>\n",
              "      <td>87125</td>\n",
              "    </tr>\n",
              "    <tr>\n",
              "      <th>1</th>\n",
              "      <td>76310</td>\n",
              "    </tr>\n",
              "  </tbody>\n",
              "</table>\n",
              "</div><br><label><b>dtype:</b> int64</label>"
            ]
          },
          "metadata": {},
          "execution_count": 21
        }
      ]
    },
    {
      "cell_type": "code",
      "source": [
        "## features, target\n",
        "X = df_transformed.drop(columns=['GENHLTH'])\n",
        "y = df_transformed['GENHLTH']"
      ],
      "metadata": {
        "id": "BtQ-y1QTKWPE"
      },
      "execution_count": 22,
      "outputs": []
    },
    {
      "cell_type": "code",
      "source": [
        "df_transformed.shape"
      ],
      "metadata": {
        "colab": {
          "base_uri": "https://localhost:8080/"
        },
        "id": "5uEFo03dveFn",
        "outputId": "73aed5db-2144-49c6-80b4-eba287f739f7"
      },
      "execution_count": 23,
      "outputs": [
        {
          "output_type": "execute_result",
          "data": {
            "text/plain": [
              "(163435, 38)"
            ]
          },
          "metadata": {},
          "execution_count": 23
        }
      ]
    },
    {
      "cell_type": "code",
      "source": [
        "y"
      ],
      "metadata": {
        "colab": {
          "base_uri": "https://localhost:8080/",
          "height": 458
        },
        "id": "UbFOexm_vjdZ",
        "outputId": "06b01d4e-050b-455e-e9ba-3e1637945b6b"
      },
      "execution_count": 24,
      "outputs": [
        {
          "output_type": "execute_result",
          "data": {
            "text/plain": [
              "0         1\n",
              "1         1\n",
              "2         0\n",
              "3         1\n",
              "4         0\n",
              "         ..\n",
              "163430    1\n",
              "163431    0\n",
              "163432    1\n",
              "163433    0\n",
              "163434    1\n",
              "Name: GENHLTH, Length: 163435, dtype: int64"
            ],
            "text/html": [
              "<div>\n",
              "<style scoped>\n",
              "    .dataframe tbody tr th:only-of-type {\n",
              "        vertical-align: middle;\n",
              "    }\n",
              "\n",
              "    .dataframe tbody tr th {\n",
              "        vertical-align: top;\n",
              "    }\n",
              "\n",
              "    .dataframe thead th {\n",
              "        text-align: right;\n",
              "    }\n",
              "</style>\n",
              "<table border=\"1\" class=\"dataframe\">\n",
              "  <thead>\n",
              "    <tr style=\"text-align: right;\">\n",
              "      <th></th>\n",
              "      <th>GENHLTH</th>\n",
              "    </tr>\n",
              "  </thead>\n",
              "  <tbody>\n",
              "    <tr>\n",
              "      <th>0</th>\n",
              "      <td>1</td>\n",
              "    </tr>\n",
              "    <tr>\n",
              "      <th>1</th>\n",
              "      <td>1</td>\n",
              "    </tr>\n",
              "    <tr>\n",
              "      <th>2</th>\n",
              "      <td>0</td>\n",
              "    </tr>\n",
              "    <tr>\n",
              "      <th>3</th>\n",
              "      <td>1</td>\n",
              "    </tr>\n",
              "    <tr>\n",
              "      <th>4</th>\n",
              "      <td>0</td>\n",
              "    </tr>\n",
              "    <tr>\n",
              "      <th>...</th>\n",
              "      <td>...</td>\n",
              "    </tr>\n",
              "    <tr>\n",
              "      <th>163430</th>\n",
              "      <td>1</td>\n",
              "    </tr>\n",
              "    <tr>\n",
              "      <th>163431</th>\n",
              "      <td>0</td>\n",
              "    </tr>\n",
              "    <tr>\n",
              "      <th>163432</th>\n",
              "      <td>1</td>\n",
              "    </tr>\n",
              "    <tr>\n",
              "      <th>163433</th>\n",
              "      <td>0</td>\n",
              "    </tr>\n",
              "    <tr>\n",
              "      <th>163434</th>\n",
              "      <td>1</td>\n",
              "    </tr>\n",
              "  </tbody>\n",
              "</table>\n",
              "<p>163435 rows × 1 columns</p>\n",
              "</div><br><label><b>dtype:</b> int64</label>"
            ]
          },
          "metadata": {},
          "execution_count": 24
        }
      ]
    },
    {
      "cell_type": "code",
      "source": [
        "y.shape"
      ],
      "metadata": {
        "colab": {
          "base_uri": "https://localhost:8080/"
        },
        "id": "ajQ8-SYRvlDs",
        "outputId": "939174db-d194-4ca8-8e61-31302c7fbd31"
      },
      "execution_count": 25,
      "outputs": [
        {
          "output_type": "execute_result",
          "data": {
            "text/plain": [
              "(163435,)"
            ]
          },
          "metadata": {},
          "execution_count": 25
        }
      ]
    },
    {
      "cell_type": "markdown",
      "source": [
        "# 8. modelling"
      ],
      "metadata": {
        "id": "sRLd8x94-DGl"
      }
    },
    {
      "cell_type": "markdown",
      "source": [
        "## 8.2 XGBoost"
      ],
      "metadata": {
        "id": "0AgmHgFNxjr9"
      }
    },
    {
      "cell_type": "markdown",
      "source": [
        "### 8.2.1. checking best paramns and estimators (RandomSearch)"
      ],
      "metadata": {
        "id": "N8B4f3D48EKf"
      }
    },
    {
      "cell_type": "code",
      "source": [
        "## splitting\n",
        "X_train, X_test, y_train, y_test = train_test_split(X, y, test_size=0.3, random_state=42)\n",
        "\n",
        "## params\n",
        "param_dist = {\n",
        "    'classifier__max_depth':        [3, 5],\n",
        "    'classifier__learning_rate':    [0.1],\n",
        "    'classifier__n_estimators':     [50, 100],\n",
        "    'classifier__colsample_bytree': [0.7],\n",
        "    'classifier__subsample':        [0.8],\n",
        "    'classifier__gamma':            [0, 0.1],\n",
        "    'classifier__min_child_weight': [1, 5]\n",
        "}\n",
        "\n",
        "## model\n",
        "xgb_model = XGBClassifier(random_state=42)\n",
        "\n",
        "## pipeline (preprocessing and model)\n",
        "pipeline = Pipeline(steps=[('preprocessor', preprocessor),\n",
        "                           ('classifier',   xgb_model)\n",
        "                          ]\n",
        "                   )\n",
        "\n",
        "\n",
        "## random search\n",
        "random_search = RandomizedSearchCV(estimator=pipeline,\n",
        "                                   param_distributions=param_dist,\n",
        "                                   n_iter=10,\n",
        "                                   scoring='f1_weighted',\n",
        "                                   cv=2,\n",
        "                                   n_jobs=-1,\n",
        "                                   random_state=42,\n",
        "                                   verbose=2\n",
        "                                  )\n",
        "\n",
        "random_search.fit(X_train, y_train)\n",
        "\n",
        "\n",
        "## best hiperparams\n",
        "print(\"Melhores hiperparâmetros:\", random_search.best_params_)\n",
        "\n",
        "## best estimators\n",
        "best_xgb = random_search.best_estimator_\n",
        "print(\"best estimators:         \", best_xgb)"
      ],
      "metadata": {
        "colab": {
          "base_uri": "https://localhost:8080/"
        },
        "id": "yZakmdHLozp4",
        "outputId": "1ea13921-c9e5-45fa-c1bc-0fd6e6efcb42"
      },
      "execution_count": 29,
      "outputs": [
        {
          "output_type": "stream",
          "name": "stdout",
          "text": [
            "Fitting 2 folds for each of 10 candidates, totalling 20 fits\n",
            "Melhores hiperparâmetros: {'classifier__subsample': 0.8, 'classifier__n_estimators': 100, 'classifier__min_child_weight': 5, 'classifier__max_depth': 5, 'classifier__learning_rate': 0.1, 'classifier__gamma': 0.1, 'classifier__colsample_bytree': 0.7}\n",
            "best estimators:          Pipeline(steps=[('preprocessor',\n",
            "                 ColumnTransformer(transformers=[('num',\n",
            "                                                  Pipeline(steps=[('imputer',\n",
            "                                                                   SimpleImputer()),\n",
            "                                                                  ('scaler',\n",
            "                                                                   StandardScaler())]),\n",
            "                                                  Index(['HTM4', 'WTKG3', 'PHYSHLTH', 'MENTHLTH', 'EXERHMM1', 'MAXVO21_',\n",
            "       'STRFREQ_', 'PA3MIN_'],\n",
            "      dtype='object')),\n",
            "                                                 ('ord',\n",
            "                                                  Pipeline(steps=[('imputer',\n",
            "                                                                   SimpleImputer(strategy='most_frequent')),\n",
            "                                                                  ('ord_encoder',\n",
            "                                                                   OrdinalEnc...\n",
            "                               feature_types=None, gamma=0.1, grow_policy=None,\n",
            "                               importance_type=None,\n",
            "                               interaction_constraints=None, learning_rate=0.1,\n",
            "                               max_bin=None, max_cat_threshold=None,\n",
            "                               max_cat_to_onehot=None, max_delta_step=None,\n",
            "                               max_depth=5, max_leaves=None, min_child_weight=5,\n",
            "                               missing=nan, monotone_constraints=None,\n",
            "                               multi_strategy=None, n_estimators=100,\n",
            "                               n_jobs=None, num_parallel_tree=None,\n",
            "                               random_state=42, ...))])\n"
          ]
        }
      ]
    },
    {
      "cell_type": "markdown",
      "source": [
        "### 8.2.2. modelling with the best params"
      ],
      "metadata": {
        "id": "IU0oppsL8w1t"
      }
    },
    {
      "cell_type": "code",
      "source": [
        "## fit\n",
        "best_xgb.fit(X_train, y_train)\n",
        "\n",
        "## predict\n",
        "y_pred_best = best_xgb.predict(X_test)\n",
        "\n",
        "## confusion matrix\n",
        "print(\"Confusion Matrix:\\n       \", confusion_matrix(y_test, y_pred_best))\n",
        "print(\"\\nClassification Report:\\n\", classification_report(y_test, y_pred_best))\n",
        "\n"
      ],
      "metadata": {
        "colab": {
          "base_uri": "https://localhost:8080/"
        },
        "id": "Njkj56X68JKO",
        "outputId": "08fb1da2-ad82-4614-9e57-2606ea5d99de"
      },
      "execution_count": 30,
      "outputs": [
        {
          "output_type": "stream",
          "name": "stdout",
          "text": [
            "Confusion Matrix:\n",
            "        [[19031  7132]\n",
            " [ 6149 16719]]\n",
            "\n",
            "Classification Report:\n",
            "               precision    recall  f1-score   support\n",
            "\n",
            "           0       0.76      0.73      0.74     26163\n",
            "           1       0.70      0.73      0.72     22868\n",
            "\n",
            "    accuracy                           0.73     49031\n",
            "   macro avg       0.73      0.73      0.73     49031\n",
            "weighted avg       0.73      0.73      0.73     49031\n",
            "\n",
            "\n",
            "Accuracy com os melhores hiperparâmetros: 0.73\n"
          ]
        }
      ]
    },
    {
      "cell_type": "markdown",
      "source": [
        "### 8.2.3. evaluating metrics"
      ],
      "metadata": {
        "id": "NJgJE9t4A-YA"
      }
    },
    {
      "cell_type": "code",
      "source": [
        "## metrics\n",
        "mse  = mean_squared_error(y_test, y_pred_best)\n",
        "r2   = r2_score(y_test, y_pred_best)\n",
        "rmse = np.sqrt(mse)\n",
        "mae  = mean_absolute_error(y_test, y_pred_best)\n",
        "\n",
        "\n",
        "## other metrics\n",
        "accuracy  = accuracy_score(y_test, y_pred_best)\n",
        "precision = precision_score(y_test, y_pred_best)\n",
        "recall    = recall_score(y_test, y_pred_best)\n",
        "f1        = f1_score(y_test, y_pred_best)\n",
        "\n",
        "\n",
        "print(f\"MSE:       {mse}\")\n",
        "print(f\"R²:        {r2}\")\n",
        "print(f\"MAE:       {mae}\")\n",
        "print(f\"RMSE:      {rmse}\")\n",
        "print(f\"Accuracy:  {accuracy}\")\n",
        "print(f\"Precision: {precision}\")\n",
        "print(f\"Recall:    {recall}\")\n",
        "print(f\"F1:        {f1}\")"
      ],
      "metadata": {
        "colab": {
          "base_uri": "https://localhost:8080/"
        },
        "id": "2dZ1aM9xAUbk",
        "outputId": "c9aaf5be-aac0-40d1-9714-b26151910d4e"
      },
      "execution_count": 35,
      "outputs": [
        {
          "output_type": "stream",
          "name": "stdout",
          "text": [
            "MSE:       0.270869449939834\n",
            "R²:        -0.08839315758565869\n",
            "MAE:       0.270869449939834\n",
            "RMSE:      0.5204511984229011\n",
            "Accuracy:  0.729130550060166\n",
            "Precision: 0.7009768982432603\n",
            "Recall:    0.7311089732377121\n",
            "F1:        0.7157259359147242\n"
          ]
        }
      ]
    },
    {
      "cell_type": "markdown",
      "source": [
        "# 9. saving model"
      ],
      "metadata": {
        "id": "O2cjXyhX9D1X"
      }
    },
    {
      "cell_type": "code",
      "source": [
        "from google.colab import drive\n",
        "drive.mount('/content/drive')\n",
        "\n",
        "import pickle\n",
        "\n",
        "# Salvando o modelo treinado\n",
        "with open('best_xgb_model.pkl', 'wb') as file:\n",
        "    pickle.dump(best_xgb, file)"
      ],
      "metadata": {
        "id": "9A7uCYnCE5E4",
        "colab": {
          "base_uri": "https://localhost:8080/"
        },
        "outputId": "0f767651-46cd-4778-d0b9-b233fa0b2f1a"
      },
      "execution_count": null,
      "outputs": [
        {
          "output_type": "stream",
          "name": "stdout",
          "text": [
            "Mounted at /content/drive\n"
          ]
        }
      ]
    },
    {
      "cell_type": "markdown",
      "source": [
        "# 10. other models (only tests - no need to run it)"
      ],
      "metadata": {
        "id": "SKkMl0WsDlYi"
      }
    },
    {
      "cell_type": "markdown",
      "source": [
        "## 10.1. logistic regression"
      ],
      "metadata": {
        "id": "tTDHr3Fphin8"
      }
    },
    {
      "cell_type": "code",
      "source": [
        "## splitting\n",
        "X_train, X_test, y_train, y_test = train_test_split(X, y, test_size=0.2, random_state=42)\n",
        "\n",
        "## model and fitting\n",
        "log_reg = LogisticRegression()\n",
        "log_reg.fit(X_train, y_train)\n",
        "\n",
        "## predicting\n",
        "y_pred = log_reg.predict(X)\n",
        "\n",
        "## score\n",
        "log_reg.score(X_test, y_test)"
      ],
      "metadata": {
        "id": "k1g0Nk3VqM-R",
        "colab": {
          "base_uri": "https://localhost:8080/",
          "height": 485
        },
        "outputId": "52bfdc9a-227f-42b6-e701-fa6c0e84a0ab"
      },
      "execution_count": 37,
      "outputs": [
        {
          "output_type": "error",
          "ename": "ValueError",
          "evalue": "Input X contains NaN.\nLogisticRegression does not accept missing values encoded as NaN natively. For supervised learning, you might want to consider sklearn.ensemble.HistGradientBoostingClassifier and Regressor which accept missing values encoded as NaNs natively. Alternatively, it is possible to preprocess the data, for instance by using an imputer transformer in a pipeline or drop samples with missing values. See https://scikit-learn.org/stable/modules/impute.html You can find a list of all estimators that handle NaN values at the following page: https://scikit-learn.org/stable/modules/impute.html#estimators-that-handle-nan-values",
          "traceback": [
            "\u001b[0;31m---------------------------------------------------------------------------\u001b[0m",
            "\u001b[0;31mValueError\u001b[0m                                Traceback (most recent call last)",
            "\u001b[0;32m<ipython-input-37-5da3c3e8bc7e>\u001b[0m in \u001b[0;36m<cell line: 6>\u001b[0;34m()\u001b[0m\n\u001b[1;32m      4\u001b[0m \u001b[0;31m## model and fitting\u001b[0m\u001b[0;34m\u001b[0m\u001b[0;34m\u001b[0m\u001b[0m\n\u001b[1;32m      5\u001b[0m \u001b[0mlog_reg\u001b[0m \u001b[0;34m=\u001b[0m \u001b[0mLogisticRegression\u001b[0m\u001b[0;34m(\u001b[0m\u001b[0;34m)\u001b[0m\u001b[0;34m\u001b[0m\u001b[0;34m\u001b[0m\u001b[0m\n\u001b[0;32m----> 6\u001b[0;31m \u001b[0mlog_reg\u001b[0m\u001b[0;34m.\u001b[0m\u001b[0mfit\u001b[0m\u001b[0;34m(\u001b[0m\u001b[0mX_train\u001b[0m\u001b[0;34m,\u001b[0m \u001b[0my_train\u001b[0m\u001b[0;34m)\u001b[0m\u001b[0;34m\u001b[0m\u001b[0;34m\u001b[0m\u001b[0m\n\u001b[0m\u001b[1;32m      7\u001b[0m \u001b[0;34m\u001b[0m\u001b[0m\n\u001b[1;32m      8\u001b[0m \u001b[0;31m## predicting\u001b[0m\u001b[0;34m\u001b[0m\u001b[0;34m\u001b[0m\u001b[0m\n",
            "\u001b[0;32m/usr/local/lib/python3.10/dist-packages/sklearn/base.py\u001b[0m in \u001b[0;36mwrapper\u001b[0;34m(estimator, *args, **kwargs)\u001b[0m\n\u001b[1;32m   1150\u001b[0m                 )\n\u001b[1;32m   1151\u001b[0m             ):\n\u001b[0;32m-> 1152\u001b[0;31m                 \u001b[0;32mreturn\u001b[0m \u001b[0mfit_method\u001b[0m\u001b[0;34m(\u001b[0m\u001b[0mestimator\u001b[0m\u001b[0;34m,\u001b[0m \u001b[0;34m*\u001b[0m\u001b[0margs\u001b[0m\u001b[0;34m,\u001b[0m \u001b[0;34m**\u001b[0m\u001b[0mkwargs\u001b[0m\u001b[0;34m)\u001b[0m\u001b[0;34m\u001b[0m\u001b[0;34m\u001b[0m\u001b[0m\n\u001b[0m\u001b[1;32m   1153\u001b[0m \u001b[0;34m\u001b[0m\u001b[0m\n\u001b[1;32m   1154\u001b[0m         \u001b[0;32mreturn\u001b[0m \u001b[0mwrapper\u001b[0m\u001b[0;34m\u001b[0m\u001b[0;34m\u001b[0m\u001b[0m\n",
            "\u001b[0;32m/usr/local/lib/python3.10/dist-packages/sklearn/linear_model/_logistic.py\u001b[0m in \u001b[0;36mfit\u001b[0;34m(self, X, y, sample_weight)\u001b[0m\n\u001b[1;32m   1206\u001b[0m             \u001b[0m_dtype\u001b[0m \u001b[0;34m=\u001b[0m \u001b[0;34m[\u001b[0m\u001b[0mnp\u001b[0m\u001b[0;34m.\u001b[0m\u001b[0mfloat64\u001b[0m\u001b[0;34m,\u001b[0m \u001b[0mnp\u001b[0m\u001b[0;34m.\u001b[0m\u001b[0mfloat32\u001b[0m\u001b[0;34m]\u001b[0m\u001b[0;34m\u001b[0m\u001b[0;34m\u001b[0m\u001b[0m\n\u001b[1;32m   1207\u001b[0m \u001b[0;34m\u001b[0m\u001b[0m\n\u001b[0;32m-> 1208\u001b[0;31m         X, y = self._validate_data(\n\u001b[0m\u001b[1;32m   1209\u001b[0m             \u001b[0mX\u001b[0m\u001b[0;34m,\u001b[0m\u001b[0;34m\u001b[0m\u001b[0;34m\u001b[0m\u001b[0m\n\u001b[1;32m   1210\u001b[0m             \u001b[0my\u001b[0m\u001b[0;34m,\u001b[0m\u001b[0;34m\u001b[0m\u001b[0;34m\u001b[0m\u001b[0m\n",
            "\u001b[0;32m/usr/local/lib/python3.10/dist-packages/sklearn/base.py\u001b[0m in \u001b[0;36m_validate_data\u001b[0;34m(self, X, y, reset, validate_separately, cast_to_ndarray, **check_params)\u001b[0m\n\u001b[1;32m    620\u001b[0m                 \u001b[0my\u001b[0m \u001b[0;34m=\u001b[0m \u001b[0mcheck_array\u001b[0m\u001b[0;34m(\u001b[0m\u001b[0my\u001b[0m\u001b[0;34m,\u001b[0m \u001b[0minput_name\u001b[0m\u001b[0;34m=\u001b[0m\u001b[0;34m\"y\"\u001b[0m\u001b[0;34m,\u001b[0m \u001b[0;34m**\u001b[0m\u001b[0mcheck_y_params\u001b[0m\u001b[0;34m)\u001b[0m\u001b[0;34m\u001b[0m\u001b[0;34m\u001b[0m\u001b[0m\n\u001b[1;32m    621\u001b[0m             \u001b[0;32melse\u001b[0m\u001b[0;34m:\u001b[0m\u001b[0;34m\u001b[0m\u001b[0;34m\u001b[0m\u001b[0m\n\u001b[0;32m--> 622\u001b[0;31m                 \u001b[0mX\u001b[0m\u001b[0;34m,\u001b[0m \u001b[0my\u001b[0m \u001b[0;34m=\u001b[0m \u001b[0mcheck_X_y\u001b[0m\u001b[0;34m(\u001b[0m\u001b[0mX\u001b[0m\u001b[0;34m,\u001b[0m \u001b[0my\u001b[0m\u001b[0;34m,\u001b[0m \u001b[0;34m**\u001b[0m\u001b[0mcheck_params\u001b[0m\u001b[0;34m)\u001b[0m\u001b[0;34m\u001b[0m\u001b[0;34m\u001b[0m\u001b[0m\n\u001b[0m\u001b[1;32m    623\u001b[0m             \u001b[0mout\u001b[0m \u001b[0;34m=\u001b[0m \u001b[0mX\u001b[0m\u001b[0;34m,\u001b[0m \u001b[0my\u001b[0m\u001b[0;34m\u001b[0m\u001b[0;34m\u001b[0m\u001b[0m\n\u001b[1;32m    624\u001b[0m \u001b[0;34m\u001b[0m\u001b[0m\n",
            "\u001b[0;32m/usr/local/lib/python3.10/dist-packages/sklearn/utils/validation.py\u001b[0m in \u001b[0;36mcheck_X_y\u001b[0;34m(X, y, accept_sparse, accept_large_sparse, dtype, order, copy, force_all_finite, ensure_2d, allow_nd, multi_output, ensure_min_samples, ensure_min_features, y_numeric, estimator)\u001b[0m\n\u001b[1;32m   1144\u001b[0m         )\n\u001b[1;32m   1145\u001b[0m \u001b[0;34m\u001b[0m\u001b[0m\n\u001b[0;32m-> 1146\u001b[0;31m     X = check_array(\n\u001b[0m\u001b[1;32m   1147\u001b[0m         \u001b[0mX\u001b[0m\u001b[0;34m,\u001b[0m\u001b[0;34m\u001b[0m\u001b[0;34m\u001b[0m\u001b[0m\n\u001b[1;32m   1148\u001b[0m         \u001b[0maccept_sparse\u001b[0m\u001b[0;34m=\u001b[0m\u001b[0maccept_sparse\u001b[0m\u001b[0;34m,\u001b[0m\u001b[0;34m\u001b[0m\u001b[0;34m\u001b[0m\u001b[0m\n",
            "\u001b[0;32m/usr/local/lib/python3.10/dist-packages/sklearn/utils/validation.py\u001b[0m in \u001b[0;36mcheck_array\u001b[0;34m(array, accept_sparse, accept_large_sparse, dtype, order, copy, force_all_finite, ensure_2d, allow_nd, ensure_min_samples, ensure_min_features, estimator, input_name)\u001b[0m\n\u001b[1;32m    955\u001b[0m \u001b[0;34m\u001b[0m\u001b[0m\n\u001b[1;32m    956\u001b[0m         \u001b[0;32mif\u001b[0m \u001b[0mforce_all_finite\u001b[0m\u001b[0;34m:\u001b[0m\u001b[0;34m\u001b[0m\u001b[0;34m\u001b[0m\u001b[0m\n\u001b[0;32m--> 957\u001b[0;31m             _assert_all_finite(\n\u001b[0m\u001b[1;32m    958\u001b[0m                 \u001b[0marray\u001b[0m\u001b[0;34m,\u001b[0m\u001b[0;34m\u001b[0m\u001b[0;34m\u001b[0m\u001b[0m\n\u001b[1;32m    959\u001b[0m                 \u001b[0minput_name\u001b[0m\u001b[0;34m=\u001b[0m\u001b[0minput_name\u001b[0m\u001b[0;34m,\u001b[0m\u001b[0;34m\u001b[0m\u001b[0;34m\u001b[0m\u001b[0m\n",
            "\u001b[0;32m/usr/local/lib/python3.10/dist-packages/sklearn/utils/validation.py\u001b[0m in \u001b[0;36m_assert_all_finite\u001b[0;34m(X, allow_nan, msg_dtype, estimator_name, input_name)\u001b[0m\n\u001b[1;32m    120\u001b[0m         \u001b[0;32mreturn\u001b[0m\u001b[0;34m\u001b[0m\u001b[0;34m\u001b[0m\u001b[0m\n\u001b[1;32m    121\u001b[0m \u001b[0;34m\u001b[0m\u001b[0m\n\u001b[0;32m--> 122\u001b[0;31m     _assert_all_finite_element_wise(\n\u001b[0m\u001b[1;32m    123\u001b[0m         \u001b[0mX\u001b[0m\u001b[0;34m,\u001b[0m\u001b[0;34m\u001b[0m\u001b[0;34m\u001b[0m\u001b[0m\n\u001b[1;32m    124\u001b[0m         \u001b[0mxp\u001b[0m\u001b[0;34m=\u001b[0m\u001b[0mxp\u001b[0m\u001b[0;34m,\u001b[0m\u001b[0;34m\u001b[0m\u001b[0;34m\u001b[0m\u001b[0m\n",
            "\u001b[0;32m/usr/local/lib/python3.10/dist-packages/sklearn/utils/validation.py\u001b[0m in \u001b[0;36m_assert_all_finite_element_wise\u001b[0;34m(X, xp, allow_nan, msg_dtype, estimator_name, input_name)\u001b[0m\n\u001b[1;32m    169\u001b[0m                 \u001b[0;34m\"#estimators-that-handle-nan-values\"\u001b[0m\u001b[0;34m\u001b[0m\u001b[0;34m\u001b[0m\u001b[0m\n\u001b[1;32m    170\u001b[0m             )\n\u001b[0;32m--> 171\u001b[0;31m         \u001b[0;32mraise\u001b[0m \u001b[0mValueError\u001b[0m\u001b[0;34m(\u001b[0m\u001b[0mmsg_err\u001b[0m\u001b[0;34m)\u001b[0m\u001b[0;34m\u001b[0m\u001b[0;34m\u001b[0m\u001b[0m\n\u001b[0m\u001b[1;32m    172\u001b[0m \u001b[0;34m\u001b[0m\u001b[0m\n\u001b[1;32m    173\u001b[0m \u001b[0;34m\u001b[0m\u001b[0m\n",
            "\u001b[0;31mValueError\u001b[0m: Input X contains NaN.\nLogisticRegression does not accept missing values encoded as NaN natively. For supervised learning, you might want to consider sklearn.ensemble.HistGradientBoostingClassifier and Regressor which accept missing values encoded as NaNs natively. Alternatively, it is possible to preprocess the data, for instance by using an imputer transformer in a pipeline or drop samples with missing values. See https://scikit-learn.org/stable/modules/impute.html You can find a list of all estimators that handle NaN values at the following page: https://scikit-learn.org/stable/modules/impute.html#estimators-that-handle-nan-values"
          ]
        }
      ]
    },
    {
      "cell_type": "markdown",
      "source": [
        "## 10.2. Artificial Neural Networks (ANN)\n"
      ],
      "metadata": {
        "id": "kKa1XFLR6Kft"
      }
    },
    {
      "cell_type": "code",
      "source": [
        "## splitting\n",
        "X_train, X_test, y_train, y_test = train_test_split(X, y, test_size=0.2, random_state=42)\n",
        "\n",
        "## model\n",
        "ann = Sequential()\n",
        "\n",
        "# Camada de entrada e primeira camada oculta (com 64 neurônios e função de ativação ReLU)\n",
        "ann.add(Dense(64, input_shape=(X_train.shape[1],), activation='relu'))\n",
        "\n",
        "# Segunda camada oculta\n",
        "ann.add(Dense(32, activation='relu'))\n",
        "\n",
        "# Camada de saída (5 neurônios para as 5 classes, usando softmax para classificação multiclasse)\n",
        "ann.add(Dense(5, activation='softmax'))\n",
        "\n",
        "## compiling\n",
        "ann.compile(optimizer='adam', loss='categorical_crossentropy', metrics=['accuracy'])\n",
        "\n",
        "## score\n",
        "mn_nb.score(X_test, y_test)"
      ],
      "metadata": {
        "id": "E41f1D7p6Opa",
        "colab": {
          "base_uri": "https://localhost:8080/"
        },
        "outputId": "a3800580-c7a3-4b56-c8c1-8873a961d8c4"
      },
      "execution_count": null,
      "outputs": [
        {
          "output_type": "stream",
          "name": "stderr",
          "text": [
            "/usr/local/lib/python3.10/dist-packages/keras/src/layers/core/dense.py:87: UserWarning: Do not pass an `input_shape`/`input_dim` argument to a layer. When using Sequential models, prefer using an `Input(shape)` object as the first layer in the model instead.\n",
            "  super().__init__(activity_regularizer=activity_regularizer, **kwargs)\n"
          ]
        },
        {
          "output_type": "execute_result",
          "data": {
            "text/plain": [
              "0.5713711500778778"
            ]
          },
          "metadata": {},
          "execution_count": 34
        }
      ]
    },
    {
      "cell_type": "markdown",
      "source": [
        "## 10.3. SVM"
      ],
      "metadata": {
        "id": "z4tPSgrz8etA"
      }
    },
    {
      "cell_type": "code",
      "source": [
        "## splitting\n",
        "X_train, X_test, y_train, y_test = train_test_split(X, y, test_size=0.2, random_state=42)\n",
        "\n",
        "## model\n",
        "svm = SVC(kernel='linear')\n",
        "svm.fit(X_train, y_train)\n",
        "\n",
        "## prediction\n",
        "y_pred = svm.predict(X_test)\n",
        "\n",
        "## score\n",
        "svm.score(X_test, y_test)"
      ],
      "metadata": {
        "id": "Cw0xGold8iq3"
      },
      "execution_count": null,
      "outputs": []
    },
    {
      "cell_type": "markdown",
      "source": [
        "## 10.4. KNN"
      ],
      "metadata": {
        "id": "0mzA2nB885Dk"
      }
    },
    {
      "cell_type": "code",
      "source": [
        "## splitting\n",
        "X_train, X_test, y_train, y_test = train_test_split(X, y, test_size=0.2, random_state=42)\n",
        "\n",
        "## model\n",
        "knn = KNeighborsClassifier(n_neighbors=5)\n",
        "knn.fit(X_train, y_train)\n",
        "\n",
        "## prediction\n",
        "y_pred = knn.predict(X_test)\n",
        "\n",
        "## score\n",
        "knn.score(X_test, y_test)"
      ],
      "metadata": {
        "id": "wNM_OYkE88o4"
      },
      "execution_count": null,
      "outputs": []
    },
    {
      "cell_type": "markdown",
      "source": [
        "## 10.5 RandomForestClassifier"
      ],
      "metadata": {
        "id": "-nsJ9VTcxl5u"
      }
    },
    {
      "cell_type": "code",
      "source": [
        "# Importações necessárias\n",
        "from sklearn.ensemble import RandomForestClassifier\n",
        "from sklearn.model_selection import train_test_split\n",
        "from sklearn.metrics import confusion_matrix, classification_report\n",
        "\n",
        "\n",
        "# Dividindo o dataset em treino e teste (70% treino, 30% teste)\n",
        "X_train, X_test, y_train, y_test = train_test_split(X, y, test_size=0.3, random_state=42)\n",
        "\n",
        "# Instanciando o RandomForestClassifier\n",
        "model_rf = RandomForestClassifier(random_state=42)\n",
        "\n",
        "# Treinando o modelo nos dados de treino\n",
        "model_rf.fit(X_train, y_train)\n",
        "\n",
        "# Fazendo previsões nos dados de teste\n",
        "y_pred_rf = model_rf.predict(X_test)\n",
        "\n",
        "# Avaliando o modelo\n",
        "print(\"Confusion Matrix:\\n\", confusion_matrix(y_test, y_pred_rf))\n",
        "print(\"\\nClassification Report:\\n\", classification_report(y_test, y_pred_rf))\n",
        "\n",
        "# Métricas adicionais, como acurácia:\n",
        "accuracy_rf = model_rf.score(X_test, y_test)\n",
        "print(f\"\\nAccuracy: {accuracy_rf:.2f}\")"
      ],
      "metadata": {
        "collapsed": true,
        "id": "LCHSM6I-oHCI"
      },
      "execution_count": null,
      "outputs": []
    },
    {
      "cell_type": "code",
      "source": [
        "! pip freeze"
      ],
      "metadata": {
        "id": "vp7Yn2omBzHy"
      },
      "execution_count": null,
      "outputs": []
    },
    {
      "cell_type": "markdown",
      "source": [
        "## 10.6. Gaussian naive bayes"
      ],
      "metadata": {
        "id": "cFJKbU0PqQHQ"
      }
    },
    {
      "cell_type": "code",
      "source": [
        "## splitting\n",
        "X_train, X_test, y_train, y_test = train_test_split(X, y, test_size=0.2, random_state=42)\n",
        "\n",
        "## model\n",
        "mn_nb = GaussianNB()\n",
        "mn_nb.fit(X_train, y_train)\n",
        "\n",
        "## prediction\n",
        "y_pred = mn_nb.predict(X_test)\n",
        "\n",
        "## score\n",
        "mn_nb.score(X_test, y_test)"
      ],
      "metadata": {
        "id": "FvqJ5pG3bQWZ",
        "colab": {
          "base_uri": "https://localhost:8080/"
        },
        "outputId": "0d2eaaf9-80f3-45f7-c6b7-5ebf1a7cb525"
      },
      "execution_count": null,
      "outputs": [
        {
          "output_type": "execute_result",
          "data": {
            "text/plain": [
              "0.5713711500778778"
            ]
          },
          "metadata": {},
          "execution_count": 33
        }
      ]
    }
  ]
}